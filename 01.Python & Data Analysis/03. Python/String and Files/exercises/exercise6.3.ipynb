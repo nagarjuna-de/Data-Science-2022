{
 "cells": [
  {
   "cell_type": "code",
   "execution_count": null,
   "metadata": {},
   "outputs": [],
   "source": []
  },
  {
   "cell_type": "markdown",
   "metadata": {},
   "source": [
    "**Exercise 6.3:** In the text below, count how often the word \"wood\" occurs (using program code, of course). Capitals and lower case letters may both be used, and you have to consider that the word \"wood\" should be a separate word, and not part of another word. Hint: If you did the exercises from this chapter, you already developed a function that \"cleans\" a text. Combining that function with the `split()` function more or less solves the problem for you."
   ]
  },
  {
   "cell_type": "code",
   "execution_count": 19,
   "metadata": {},
   "outputs": [
    {
     "name": "stdout",
     "output_type": "stream",
     "text": [
      "How much wood would a woodchuck chuckIf a woodchuck could chuck wood?He would chuck, he would, as much as he could,And chuck as much as a woodchuck wouldIf a Mr. Smith could chuck wood\t.\n",
      "How much wood would a woodchuck chuckIf a woodchuck could chuck wood He would chuck  he would  as much as he could And chuck as much as a woodchuck wouldIf a Mr  Smith could chuck wood\t \n",
      "how much wood would a woodchuck chuckif a woodchuck could chuck wood he would chuck  he would  as much as he could and chuck as much as a woodchuck wouldif a mr  smith could chuck wood\t \n",
      "how much wood would a woodchuck chuckif a woodchuck could chuck wood he would chuck  he would  as much as he could and chuck as much as a woodchuck wouldif a mr  smith could chuck wood\n",
      "['how', 'much', 'wood', 'would', 'a', 'woodchuck', 'chuckif', 'a', 'woodchuck', 'could', 'chuck', 'wood', 'he', 'would', 'chuck', 'he', 'would', 'as', 'much', 'as', 'he', 'could', 'and', 'chuck', 'as', 'much', 'as', 'a', 'woodchuck', 'wouldif', 'a', 'mr', 'smith', 'could', 'chuck', 'wood']\n",
      "3\n"
     ]
    }
   ],
   "source": [
    "#get rid of \\n\n",
    "text = \"\"\"How much wood would a woodchuck chuck\n",
    "If a woodchuck could chuck wood?\n",
    "He would chuck, he would, as much as he could,\n",
    "And chuck as much as a woodchuck would\n",
    "If a Mr. Smith could chuck wood\\n\\r\\t.\"\"\"\n",
    "\n",
    "text = \"\".join(text.splitlines())\n",
    "print(text)\n",
    "\n",
    "# getting rid of grammar\n",
    "text = text.replace('?', ' ')\n",
    "text = text.replace(',', ' ')\n",
    "text = text.replace('.', ' ')\n",
    "print(text)\n",
    "\n",
    "# lowercase of the text\n",
    "ltext = text.lower()\n",
    "print(ltext)\n",
    "\n",
    "# removing spaces\n",
    "rstext = ltext.strip()\n",
    "print(rstext)\n",
    "\n",
    "# splitting word in text\n",
    "sptext = rstext.split()\n",
    "print(sptext)\n",
    "\n",
    "\n",
    "\n",
    "\n",
    "# wood counter function\n",
    "def woodcounter():\n",
    "    counter = sptext.count('wood')\n",
    "    print(counter)\n",
    "woodcounter()\n",
    "\n",
    "# iam unable to split woodchuck into 'wood' 'chuck'\n",
    "\n"
   ]
  }
 ],
 "metadata": {
  "interpreter": {
   "hash": "6dd76bf1bda3cfcc2b9c79ebe58e8411420a10c087c30911fe701ec6ed40def1"
  },
  "kernelspec": {
   "display_name": "Python 3.8.12 64-bit ('ds22': conda)",
   "language": "python",
   "name": "python3"
  },
  "language_info": {
   "codemirror_mode": {
    "name": "ipython",
    "version": 3
   },
   "file_extension": ".py",
   "mimetype": "text/x-python",
   "name": "python",
   "nbconvert_exporter": "python",
   "pygments_lexer": "ipython3",
   "version": "3.8.12"
  },
  "orig_nbformat": 4
 },
 "nbformat": 4,
 "nbformat_minor": 2
}
