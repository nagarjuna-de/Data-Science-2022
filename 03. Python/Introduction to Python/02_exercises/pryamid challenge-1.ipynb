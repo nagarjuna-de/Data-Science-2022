{
 "cells": [
  {
   "cell_type": "code",
   "execution_count": 5,
   "metadata": {},
   "outputs": [
    {
     "name": "stdout",
     "output_type": "stream",
     "text": [
      "#\n",
      "##\n",
      "###\n",
      "####\n",
      "#####\n",
      "######\n"
     ]
    }
   ],
   "source": [
    "def print_pryamid(num):\n",
    "    for i in range(num): # This for loop for no.of rows based on given 'num' input.\n",
    "        for j in range(i+1): # this for loop isto print no.of # in the row based on row number.\n",
    "            print(\"#\", end=\"\")\n",
    "        print() # This print function is to break the for loop and start new line for next row.\n",
    "\n",
    "print_pryamid(6)\n"
   ]
  }
 ],
 "metadata": {
  "interpreter": {
   "hash": "6dd76bf1bda3cfcc2b9c79ebe58e8411420a10c087c30911fe701ec6ed40def1"
  },
  "kernelspec": {
   "display_name": "Python 3.8.12 64-bit ('ds22': conda)",
   "language": "python",
   "name": "python3"
  },
  "language_info": {
   "codemirror_mode": {
    "name": "ipython",
    "version": 3
   },
   "file_extension": ".py",
   "mimetype": "text/x-python",
   "name": "python",
   "nbconvert_exporter": "python",
   "pygments_lexer": "ipython3",
   "version": "3.8.12"
  },
  "orig_nbformat": 4
 },
 "nbformat": 4,
 "nbformat_minor": 2
}
