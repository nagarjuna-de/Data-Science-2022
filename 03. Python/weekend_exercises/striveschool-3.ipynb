{
 "cells": [
  {
   "cell_type": "code",
   "execution_count": null,
   "metadata": {},
   "outputs": [],
   "source": []
  },
  {
   "cell_type": "markdown",
   "metadata": {},
   "source": [
    "In this challenge you need to code a function that receives a list of numbers and returns:\n",
    "\n",
    "Strive if the number is divisible by 3\n",
    "School if the number is divisible by 5\n",
    "Strive School if the number is divisible by 3 and 5\n",
    "the number itself otherwise\n",
    "i. e. strive_school([1, 2, 3, 5, 15]) outputs [1, 2, Strive, School, Strive School]"
   ]
  },
  {
   "cell_type": "code",
   "execution_count": 12,
   "metadata": {},
   "outputs": [
    {
     "name": "stdout",
     "output_type": "stream",
     "text": [
      "Enter numbers in the list\n",
      "[3, 10, 15, 30, 45, 60]\n",
      "strive_School\n",
      "6\n"
     ]
    }
   ],
   "source": [
    "user_list = []\n",
    "l_list = int(input(\"Enter list length:\"))\n",
    "print(\"Enter numbers in the list\")\n",
    "for i in range (l_list):\n",
    "    user_input = int(input())\n",
    "    user_list.append(user_input)\n",
    "\n",
    "print(user_list)\n",
    "\n",
    "def strive_school():\n",
    "    for j in range (l_list+1):\n",
    "        if j%3==0 and j%5==0:\n",
    "            print(\"strive_School\")\n",
    "    else:\n",
    "        print(j)\n",
    "strive_school()\n",
    "\n"
   ]
  }
 ],
 "metadata": {
  "interpreter": {
   "hash": "6dd76bf1bda3cfcc2b9c79ebe58e8411420a10c087c30911fe701ec6ed40def1"
  },
  "kernelspec": {
   "display_name": "Python 3.8.12 64-bit ('ds22': conda)",
   "language": "python",
   "name": "python3"
  },
  "language_info": {
   "codemirror_mode": {
    "name": "ipython",
    "version": 3
   },
   "file_extension": ".py",
   "mimetype": "text/x-python",
   "name": "python",
   "nbconvert_exporter": "python",
   "pygments_lexer": "ipython3",
   "version": "3.8.12"
  },
  "orig_nbformat": 4
 },
 "nbformat": 4,
 "nbformat_minor": 2
}
