{
 "cells": [
  {
   "cell_type": "code",
   "execution_count": 1,
   "metadata": {},
   "outputs": [],
   "source": [
    "import numpy    as np\n",
    "from numpy.testing._private.utils import decorate_methods\n",
    "import pandas   as pd\n",
    "import seaborn  as sns\n",
    "import matplotlib.pyplot as plt\n",
    "import sklearn  as skl\n",
    "import time\n",
    "\n",
    "from sklearn.pipeline import Pipeline      # Pipeline\n",
    "from sklearn.pipeline import make_pipeline\n",
    "from sklearn.preprocessing import OrdinalEncoder, LabelEncoder\n",
    "from sklearn.impute import SimpleImputer\n",
    "from sklearn.compose import ColumnTransformer\n",
    "from sklearn.model_selection import train_test_split\n",
    "from sklearn.metrics import accuracy_score, balanced_accuracy_score, plot_confusion_matrix\n",
    "from sklearn import set_config\n",
    "set_config(display='diagram') # Useful for display the pipeline\n",
    "\n",
    "from sklearn.tree          import DecisionTreeRegressor\n",
    "from sklearn.ensemble      import RandomForestRegressor\n",
    "from sklearn.ensemble      import ExtraTreesRegressor\n",
    "from sklearn.ensemble      import AdaBoostRegressor\n",
    "from sklearn.ensemble      import GradientBoostingRegressor\n",
    "from xgboost               import XGBRegressor\n",
    "from lightgbm              import LGBMRegressor\n",
    "from catboost              import CatBoostRegressor"
   ]
  },
  {
   "cell_type": "code",
   "execution_count": 18,
   "metadata": {},
   "outputs": [
    {
     "name": "stdout",
     "output_type": "stream",
     "text": [
      "(17414, 10)\n",
      "(17414, 12)\n"
     ]
    }
   ],
   "source": [
    "data = pd.read_csv(r'data\\london_merged.csv')\n",
    "print(data.shape)\n",
    "data.head()\n",
    "\n",
    "'''\n",
    "The Dataframe has 9 columns and all the columns/features contains numerical data. The prediction target is cnt.\n",
    "In this Dataframe there is no null values.\n",
    "The time stamp is all together like 2015-01-04 00:00:00.\n",
    "It is very hard to train our model when timestamp is in this format.\n",
    " So, create new features for month, year and hour.\n",
    "We are dropping date value because it has lot of repetitions(0-30) for each and every month.\n",
    "'''\n",
    "\n",
    "data['year'] = data['timestamp'].apply(lambda row: row[:4])\n",
    "data['month'] = data['timestamp'].apply(lambda row: row.split('-')[2][:2] )\n",
    "data['hour'] = data['timestamp'].apply(lambda row: row.split(':')[0][-2:] )\n",
    "\n",
    "data.drop('timestamp', axis=1, inplace=True)\n",
    "\n",
    "print(data.shape)"
   ]
  },
  {
   "cell_type": "code",
   "execution_count": null,
   "metadata": {},
   "outputs": [],
   "source": [
    "gen_data = data\n",
    "for season in data['season'].unique():\n",
    "    seasonal_data =  gen_data[gen_data['season'] == season]\n",
    "    print(seasonal_data)"
   ]
  },
  {
   "cell_type": "code",
   "execution_count": null,
   "metadata": {},
   "outputs": [],
   "source": [
    "np."
   ]
  }
 ],
 "metadata": {
  "interpreter": {
   "hash": "6dd76bf1bda3cfcc2b9c79ebe58e8411420a10c087c30911fe701ec6ed40def1"
  },
  "kernelspec": {
   "display_name": "Python 3.8.12 ('ds22')",
   "language": "python",
   "name": "python3"
  },
  "language_info": {
   "codemirror_mode": {
    "name": "ipython",
    "version": 3
   },
   "file_extension": ".py",
   "mimetype": "text/x-python",
   "name": "python",
   "nbconvert_exporter": "python",
   "pygments_lexer": "ipython3",
   "version": "3.8.12"
  },
  "orig_nbformat": 4
 },
 "nbformat": 4,
 "nbformat_minor": 2
}
