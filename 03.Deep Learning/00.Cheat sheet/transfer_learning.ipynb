{
 "cells": [
  {
   "cell_type": "markdown",
   "metadata": {},
   "source": [
    "Transfer learning is a process of using the pretrained models to our requirements by changing the output features."
   ]
  },
  {
   "cell_type": "markdown",
   "metadata": {},
   "source": [
    "#### Transfer Learning Strategies."
   ]
  },
  {
   "cell_type": "markdown",
   "metadata": {},
   "source": [
    "#### Scenario-1  \n",
    "target dataset -- user/our dataset  \n",
    "training datset -- model trained dataset.  \n",
    "If we have a `small target dataset` and similar to the training dataset.  \n",
    "target dataset- The dataset what we have  \n",
    "training dataset -- The dataset of the pretrained model.  \n",
    "\n",
    "Solution: Freeze all the weights of CNN and retrain only linear layers"
   ]
  },
  {
   "cell_type": "markdown",
   "metadata": {},
   "source": [
    "#### Scenario-2\n",
    "if we have a `big target dataset` that is smiliar to training dataset\n",
    "\n",
    "Replace the linear/Fully connected layers with a new classifier.\n",
    "\n",
    "Train the entire model.\n"
   ]
  },
  {
   "cell_type": "markdown",
   "metadata": {},
   "source": [
    "#### Scenario-3\n",
    "If we have a `small target dataset` that is very `different from the training datset`.  \n",
    "\n",
    "Since the task is different, only low level features are meaningful that you can find at first convolutional layers.  \n",
    "\n",
    "Solution:\n",
    "Freeze the first convolutional layers and drop the high-level convolutional layers and put a fully connected layer on top of it.  \n"
   ]
  },
  {
   "cell_type": "markdown",
   "metadata": {},
   "source": [
    "#### Scenario-4\n",
    "If we have a `big target dataset` that is very `different from the training datset`.  \n",
    "\n",
    "Since the task is different, only low level features are meaningful that you can find at first convolutional layers.  \n",
    "\n",
    "Solution:\n",
    "Replace the fully  connected layer with a classifier of your choice and retrain everything."
   ]
  },
  {
   "cell_type": "code",
   "execution_count": null,
   "metadata": {},
   "outputs": [],
   "source": [
    "import torch as T\n",
    "import torch.nn as nn\n",
    "import torch.optim as optim\n",
    "import torch.nn.functional as F\n",
    "from torchvision import datasets, transforms, models\n",
    "from torch.utils.data import DataLoader\n",
    "from statistics import mean\n",
    "import os\n",
    "import numpy as np\n",
    "import matplotlib.pyplot as plt\n",
    "%matplotlib inline\n",
    "%config InlineBackend.figure_format = 'retina'"
   ]
  },
  {
   "cell_type": "code",
   "execution_count": null,
   "metadata": {},
   "outputs": [],
   "source": [
    "model = models.densenet121(pretrained = True)\n",
    "model"
   ]
  },
  {
   "cell_type": "code",
   "execution_count": null,
   "metadata": {},
   "outputs": [],
   "source": [
    "## Setting req_grad = Fals\n",
    "for param in model.features.parameters():\n",
    "    param.requires_grad = False\n",
    "\n",
    "print(list(model.features.parameters())[0].requires_grad)\n",
    "list(model.classifier.parameters())[0].requires_grad\n"
   ]
  },
  {
   "cell_type": "code",
   "execution_count": null,
   "metadata": {},
   "outputs": [],
   "source": [
    "class SmallNet(nn.Module):\n",
    "    def __init__(self):\n",
    "        super(SmallNet, self).__init__()\n",
    "        self.fc1 = nn.Linear(1024,512)\n",
    "        self.fc2 = nn.Linear(512,256)\n",
    "        self.fc3 = nn.Linear(256,2)\n",
    "\n",
    "    def forward(self, x):\n",
    "        x = F.relu(self.fc1(x))\n",
    "        x = F.relu(self.fc2(x))\n",
    "        x = self.fc3(x)\n",
    "\n",
    "        return x\n",
    "\n",
    "\n",
    "model.classifier = SmallNet()\n",
    "\n",
    "model"
   ]
  },
  {
   "cell_type": "code",
   "execution_count": null,
   "metadata": {},
   "outputs": [],
   "source": [
    "criterion = nn.NLLLoss()\n",
    "optimizer = optim.SGD(model.classifier.parameters(), lr=0.003)"
   ]
  }
 ],
 "metadata": {
  "interpreter": {
   "hash": "d6a88286319d0d529453aaad86e23161652ae20ee8331519045b47d8d7f809e4"
  },
  "kernelspec": {
   "display_name": "Python 3.8.13 ('pipcv22')",
   "language": "python",
   "name": "python3"
  },
  "language_info": {
   "name": "python",
   "version": "3.8.13"
  },
  "orig_nbformat": 4
 },
 "nbformat": 4,
 "nbformat_minor": 2
}
