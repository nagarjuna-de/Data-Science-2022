{
 "cells": [
  {
   "cell_type": "code",
   "execution_count": null,
   "metadata": {},
   "outputs": [],
   "source": []
  },
  {
   "cell_type": "markdown",
   "metadata": {},
   "source": [
    "**Exercise 5.8 (🌶️):** A, B, C, and D are all different digits. The number DCBA is equal to 4 times the number ABCD. What are the digits? Note: to make ABCD and DCBA conventional numbers, neither A nor D can be zero. Use a quadruple-nested loop."
   ]
  },
  {
   "cell_type": "code",
   "execution_count": 1,
   "metadata": {},
   "outputs": [
    {
     "name": "stdout",
     "output_type": "stream",
     "text": [
      "A: 2\n",
      "B: 1\n",
      "C: 7\n",
      "D: 8\n"
     ]
    }
   ],
   "source": [
    "#Your Code Here\n",
    "# Solve 4*ABCD == DCBA\n",
    "def nested_nest():\n",
    "    # defining A,B,C,D using for loop. let consider ABCD is a 4 digit number so the range for A/B/C/D is in 0 to 9.\n",
    "    for a in range (1,9):\n",
    "        for b in range (1,9):\n",
    "            for c in range (1,9):\n",
    "                for d in range (1,9):\n",
    "                    if 4000*a+400*b+40*c+4*d == 1000*d+100*c+10*b+1*a:\n",
    "                        print(\"A:\",a)\n",
    "                        print(\"B:\",b)\n",
    "                        print(\"C:\",c)\n",
    "                        print(\"D:\",d)\n",
    "\n",
    "nested_nest()\n",
    "# defining the range from 0 to 9. I am also getting A=B=C=D=0. this also satisfy my condition and then rearranged the range from 1 to 9 \n",
    "                    \n",
    "\n",
    "\n",
    "    \n",
    "\n",
    "    "
   ]
  }
 ],
 "metadata": {
  "interpreter": {
   "hash": "6dd76bf1bda3cfcc2b9c79ebe58e8411420a10c087c30911fe701ec6ed40def1"
  },
  "kernelspec": {
   "display_name": "Python 3.8.12 64-bit ('ds22': conda)",
   "language": "python",
   "name": "python3"
  },
  "language_info": {
   "codemirror_mode": {
    "name": "ipython",
    "version": 3
   },
   "file_extension": ".py",
   "mimetype": "text/x-python",
   "name": "python",
   "nbconvert_exporter": "python",
   "pygments_lexer": "ipython3",
   "version": "3.8.12"
  },
  "orig_nbformat": 4
 },
 "nbformat": 4,
 "nbformat_minor": 2
}
