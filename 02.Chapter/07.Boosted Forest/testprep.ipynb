{
 "cells": [
  {
   "cell_type": "code",
   "execution_count": 1,
   "metadata": {},
   "outputs": [],
   "source": [
    "import pandas as pd\n",
    "import matplotlib.pyplot as plt"
   ]
  },
  {
   "cell_type": "code",
   "execution_count": 2,
   "metadata": {},
   "outputs": [
    {
     "data": {
      "text/html": [
       "<div>\n",
       "<style scoped>\n",
       "    .dataframe tbody tr th:only-of-type {\n",
       "        vertical-align: middle;\n",
       "    }\n",
       "\n",
       "    .dataframe tbody tr th {\n",
       "        vertical-align: top;\n",
       "    }\n",
       "\n",
       "    .dataframe thead th {\n",
       "        text-align: right;\n",
       "    }\n",
       "</style>\n",
       "<table border=\"1\" class=\"dataframe\">\n",
       "  <thead>\n",
       "    <tr style=\"text-align: right;\">\n",
       "      <th></th>\n",
       "      <th>age</th>\n",
       "      <th>sex</th>\n",
       "      <th>bmi</th>\n",
       "      <th>children</th>\n",
       "      <th>smoker</th>\n",
       "      <th>region</th>\n",
       "      <th>charges</th>\n",
       "    </tr>\n",
       "  </thead>\n",
       "  <tbody>\n",
       "    <tr>\n",
       "      <th>0</th>\n",
       "      <td>19</td>\n",
       "      <td>female</td>\n",
       "      <td>27.900</td>\n",
       "      <td>0</td>\n",
       "      <td>yes</td>\n",
       "      <td>southwest</td>\n",
       "      <td>16884.92400</td>\n",
       "    </tr>\n",
       "    <tr>\n",
       "      <th>1</th>\n",
       "      <td>18</td>\n",
       "      <td>male</td>\n",
       "      <td>33.770</td>\n",
       "      <td>1</td>\n",
       "      <td>no</td>\n",
       "      <td>southeast</td>\n",
       "      <td>1725.55230</td>\n",
       "    </tr>\n",
       "    <tr>\n",
       "      <th>2</th>\n",
       "      <td>28</td>\n",
       "      <td>male</td>\n",
       "      <td>33.000</td>\n",
       "      <td>3</td>\n",
       "      <td>no</td>\n",
       "      <td>southeast</td>\n",
       "      <td>4449.46200</td>\n",
       "    </tr>\n",
       "    <tr>\n",
       "      <th>3</th>\n",
       "      <td>33</td>\n",
       "      <td>male</td>\n",
       "      <td>22.705</td>\n",
       "      <td>0</td>\n",
       "      <td>no</td>\n",
       "      <td>northwest</td>\n",
       "      <td>21984.47061</td>\n",
       "    </tr>\n",
       "    <tr>\n",
       "      <th>4</th>\n",
       "      <td>32</td>\n",
       "      <td>male</td>\n",
       "      <td>28.880</td>\n",
       "      <td>0</td>\n",
       "      <td>no</td>\n",
       "      <td>northwest</td>\n",
       "      <td>3866.85520</td>\n",
       "    </tr>\n",
       "  </tbody>\n",
       "</table>\n",
       "</div>"
      ],
      "text/plain": [
       "   age     sex     bmi  children smoker     region      charges\n",
       "0   19  female  27.900         0    yes  southwest  16884.92400\n",
       "1   18    male  33.770         1     no  southeast   1725.55230\n",
       "2   28    male  33.000         3     no  southeast   4449.46200\n",
       "3   33    male  22.705         0     no  northwest  21984.47061\n",
       "4   32    male  28.880         0     no  northwest   3866.85520"
      ]
     },
     "execution_count": 2,
     "metadata": {},
     "output_type": "execute_result"
    }
   ],
   "source": [
    "df = pd.read_csv('insurance.csv')\n",
    "df.head()"
   ]
  },
  {
   "cell_type": "markdown",
   "metadata": {},
   "source": [
    "ohe = OneHotEncoder()\n",
    "x_train = ohe.fit_transform(x_train['sex', 'smoker'])\n",
    "x_test = ohe.transform(x_test['sex', 'smoker'])\n",
    "\n",
    "oe = OrdinalEncoder()\n",
    "x_train = oe.fit_transform(x_train['region'])\n",
    "x_test = oe.transform(x_test['region'])\n",
    "\n",
    "le = LabelEncoder()\n",
    "x_train = le.fit_transform(x_train['children'])\n",
    "x_test = le.transform(x_test['children'])"
   ]
  },
  {
   "cell_type": "code",
   "execution_count": 8,
   "metadata": {},
   "outputs": [],
   "source": [
    "from sklearn.preprocessing import OneHotEncoder\n",
    "from sklearn.preprocessing import OrdinalEncoder\n",
    "from sklearn.preprocessing import LabelEncoder\n",
    "from sklearn.model_selection import train_test_split"
   ]
  },
  {
   "cell_type": "code",
   "execution_count": 6,
   "metadata": {},
   "outputs": [],
   "source": [
    "X = df.drop(['charges'], axis=1)\n",
    "y = df.charges\n",
    "X_train, X_test, y_train, y_test = train_test_split(X,y,test_size=0.3,random_state=42)"
   ]
  },
  {
   "cell_type": "code",
   "execution_count": 12,
   "metadata": {},
   "outputs": [
    {
     "data": {
      "text/plain": [
       "(936, 6)"
      ]
     },
     "execution_count": 12,
     "metadata": {},
     "output_type": "execute_result"
    }
   ],
   "source": [
    "X_train.shape"
   ]
  },
  {
   "cell_type": "code",
   "execution_count": 10,
   "metadata": {},
   "outputs": [
    {
     "ename": "ValueError",
     "evalue": "Expected 2D array, got 1D array instead:\narray=['female' 'male' 'female' 'male' 'male' 'male' 'female' 'male' 'female'\n 'male' 'female' 'female' 'male' 'female' 'male' 'male' 'male' 'male'\n 'male' 'male' 'male' 'male' 'male' 'male' 'female' 'female' 'female'\n 'female' 'male' 'female' 'female' 'female' 'female' 'female' 'female'\n 'male' 'female' 'male' 'female' 'male' 'female' 'male' 'female' 'female'\n 'male' 'male' 'female' 'male' 'male' 'male' 'male' 'male' 'male' 'male'\n 'male' 'male' 'female' 'male' 'male' 'female' 'female' 'female' 'male'\n 'female' 'male' 'male' 'female' 'female' 'male' 'male' 'female' 'male'\n 'male' 'female' 'male' 'male' 'female' 'female' 'female' 'male' 'male'\n 'male' 'female' 'female' 'male' 'male' 'female' 'male' 'female' 'male'\n 'female' 'male' 'female' 'male' 'female' 'female' 'male' 'male' 'female'\n 'male' 'male' 'male' 'female' 'female' 'female' 'male' 'male' 'female'\n 'male' 'male' 'female' 'male' 'male' 'female' 'male' 'female' 'male'\n 'female' 'female' 'male' 'female' 'female' 'male' 'male' 'female'\n 'female' 'female' 'female' 'female' 'female' 'male' 'male' 'female'\n 'male' 'female' 'male' 'female' 'female' 'male' 'male' 'female' 'female'\n 'male' 'male' 'male' 'female' 'male' 'female' 'male' 'female' 'female'\n 'male' 'male' 'male' 'male' 'female' 'female' 'male' 'female' 'male'\n 'male' 'male' 'male' 'female' 'female' 'male' 'female' 'male' 'male'\n 'male' 'female' 'female' 'male' 'female' 'male' 'male' 'male' 'female'\n 'female' 'female' 'female' 'male' 'male' 'male' 'male' 'female' 'female'\n 'female' 'male' 'male' 'male' 'female' 'male' 'female' 'female' 'male'\n 'male' 'female' 'male' 'male' 'female' 'female' 'female' 'female'\n 'female' 'female' 'female' 'female' 'female' 'female' 'male' 'male'\n 'male' 'male' 'female' 'male' 'male' 'female' 'male' 'male' 'male'\n 'female' 'female' 'male' 'female' 'female' 'male' 'female' 'male' 'male'\n 'female' 'female' 'female' 'male' 'female' 'male' 'male' 'male' 'male'\n 'male' 'female' 'male' 'male' 'male' 'male' 'male' 'female' 'male' 'male'\n 'female' 'male' 'male' 'female' 'male' 'male' 'male' 'female' 'male'\n 'female' 'female' 'female' 'female' 'male' 'male' 'female' 'female'\n 'male' 'male' 'female' 'male' 'male' 'male' 'female' 'male' 'male' 'male'\n 'female' 'female' 'male' 'female' 'male' 'male' 'male' 'male' 'female'\n 'female' 'male' 'female' 'female' 'male' 'female' 'male' 'female' 'male'\n 'male' 'male' 'male' 'female' 'female' 'male' 'male' 'female' 'female'\n 'male' 'male' 'female' 'female' 'male' 'female' 'male' 'female' 'female'\n 'male' 'male' 'male' 'female' 'male' 'male' 'female' 'female' 'male'\n 'female' 'female' 'female' 'female' 'male' 'female' 'male' 'male' 'male'\n 'female' 'male' 'male' 'female' 'female' 'male' 'male' 'female' 'female'\n 'female' 'male' 'female' 'female' 'male' 'female' 'male' 'male' 'female'\n 'female' 'male' 'female' 'male' 'female' 'male' 'male' 'male' 'male'\n 'male' 'male' 'male' 'female' 'female' 'male' 'male' 'female' 'female'\n 'female' 'female' 'male' 'male' 'female' 'male' 'male' 'female' 'female'\n 'male' 'male' 'female' 'female' 'male' 'female' 'male' 'male' 'male'\n 'male' 'female' 'male' 'male' 'male' 'female' 'female' 'male' 'female'\n 'female' 'female' 'male' 'male' 'female' 'female' 'male' 'female' 'male'\n 'female' 'female' 'female' 'male' 'female' 'male' 'female' 'male'\n 'female' 'male' 'male' 'male' 'male' 'male' 'male' 'male' 'female' 'male'\n 'female' 'male' 'male' 'female' 'male' 'male' 'female' 'female' 'male'\n 'male' 'female' 'female' 'male' 'female' 'male' 'female' 'female' 'male'\n 'female' 'male' 'female' 'female' 'male' 'male' 'female' 'male' 'female'\n 'female' 'female' 'female' 'male' 'female' 'female' 'male' 'female'\n 'male' 'female' 'male' 'female' 'male' 'female' 'female' 'female'\n 'female' 'male' 'female' 'female' 'female' 'male' 'female' 'male'\n 'female' 'female' 'female' 'male' 'male' 'male' 'female' 'male' 'male'\n 'male' 'female' 'male' 'female' 'male' 'male' 'female' 'female' 'male'\n 'female' 'male' 'male' 'female' 'female' 'male' 'female' 'female' 'male'\n 'female' 'male' 'male' 'male' 'female' 'female' 'male' 'female' 'male'\n 'female' 'male' 'female' 'male' 'male' 'male' 'female' 'female' 'male'\n 'male' 'male' 'female' 'female' 'male' 'female' 'female' 'female'\n 'female' 'female' 'male' 'male' 'female' 'male' 'female' 'male' 'female'\n 'female' 'male' 'female' 'female' 'male' 'male' 'female' 'female' 'male'\n 'female' 'female' 'female' 'male' 'male' 'female' 'female' 'male'\n 'female' 'male' 'female' 'male' 'male' 'male' 'female' 'female' 'female'\n 'female' 'female' 'male' 'male' 'male' 'female' 'female' 'female'\n 'female' 'female' 'male' 'male' 'female' 'male' 'male' 'male' 'male'\n 'female' 'male' 'male' 'female' 'female' 'male' 'female' 'male' 'male'\n 'male' 'male' 'female' 'female' 'female' 'female' 'male' 'female' 'male'\n 'male' 'female' 'female' 'female' 'male' 'female' 'male' 'female' 'male'\n 'female' 'male' 'male' 'male' 'male' 'female' 'male' 'male' 'male'\n 'female' 'female' 'male' 'female' 'male' 'male' 'male' 'male' 'female'\n 'female' 'female' 'female' 'female' 'male' 'male' 'male' 'female'\n 'female' 'female' 'male' 'male' 'male' 'female' 'male' 'male' 'male'\n 'female' 'female' 'female' 'female' 'male' 'male' 'female' 'male'\n 'female' 'female' 'female' 'female' 'male' 'male' 'female' 'male'\n 'female' 'female' 'male' 'female' 'male' 'female' 'male' 'female' 'male'\n 'female' 'female' 'female' 'female' 'female' 'male' 'female' 'male'\n 'male' 'female' 'male' 'male' 'female' 'female' 'female' 'female' 'male'\n 'male' 'female' 'female' 'male' 'female' 'male' 'male' 'male' 'male'\n 'male' 'female' 'female' 'male' 'male' 'male' 'female' 'male' 'female'\n 'female' 'male' 'female' 'female' 'male' 'male' 'male' 'male' 'female'\n 'female' 'male' 'female' 'female' 'female' 'male' 'female' 'male' 'male'\n 'male' 'male' 'male' 'male' 'female' 'male' 'male' 'male' 'female'\n 'female' 'male' 'male' 'male' 'female' 'female' 'male' 'male' 'female'\n 'male' 'male' 'female' 'male' 'female' 'female' 'male' 'male' 'female'\n 'male' 'female' 'female' 'male' 'female' 'female' 'male' 'male' 'male'\n 'male' 'female' 'female' 'female' 'female' 'female' 'female' 'female'\n 'female' 'male' 'female' 'male' 'female' 'female' 'male' 'female'\n 'female' 'male' 'male' 'male' 'male' 'female' 'male' 'male' 'female'\n 'female' 'female' 'male' 'female' 'male' 'male' 'female' 'female' 'male'\n 'female' 'female' 'female' 'male' 'male' 'female' 'male' 'male' 'female'\n 'male' 'female' 'male' 'male' 'female' 'female' 'female' 'female' 'male'\n 'female' 'male' 'male' 'male' 'female' 'female' 'male' 'male' 'male'\n 'female' 'male' 'male' 'male' 'male' 'male' 'male' 'female' 'female'\n 'female' 'male' 'male' 'male' 'female' 'male' 'male' 'female' 'male'\n 'male' 'female' 'female' 'male' 'female' 'female' 'female' 'female'\n 'female' 'male' 'female' 'male' 'male' 'male' 'female' 'female' 'female'\n 'female' 'male' 'female' 'female' 'female' 'male' 'female' 'male'\n 'female' 'male' 'female' 'male' 'male' 'female' 'male' 'female' 'male'\n 'female' 'male' 'female' 'female' 'female' 'female' 'male' 'male'\n 'female' 'female' 'female' 'female' 'male' 'female' 'male' 'male'\n 'female' 'male' 'female' 'male' 'female' 'male' 'female' 'female' 'male'\n 'female' 'male' 'female' 'male' 'female' 'male' 'female' 'female' 'male'\n 'male' 'male' 'male' 'male' 'female' 'male' 'female' 'male' 'male' 'male'\n 'female' 'male' 'male' 'female' 'female' 'female' 'male' 'male' 'male'\n 'male' 'female' 'male' 'female' 'female' 'female' 'female' 'female'\n 'female' 'male' 'female' 'male' 'male' 'female' 'female' 'male' 'female'\n 'male'].\nReshape your data either using array.reshape(-1, 1) if your data has a single feature or array.reshape(1, -1) if it contains a single sample.",
     "output_type": "error",
     "traceback": [
      "\u001b[1;31m---------------------------------------------------------------------------\u001b[0m",
      "\u001b[1;31mValueError\u001b[0m                                Traceback (most recent call last)",
      "\u001b[1;32mc:\\Users\\rnr31\\Documents\\GitHub\\Ravella_DS22_Strive_School_Excercises\\02.Chapter\\07.Boosted Forest\\testprep.ipynb Cell 6'\u001b[0m in \u001b[0;36m<module>\u001b[1;34m\u001b[0m\n\u001b[0;32m      <a href='vscode-notebook-cell:/c%3A/Users/rnr31/Documents/GitHub/Ravella_DS22_Strive_School_Excercises/02.Chapter/07.Boosted%20Forest/testprep.ipynb#ch0000006?line=0'>1</a>\u001b[0m ohe \u001b[39m=\u001b[39m OneHotEncoder()\n\u001b[1;32m----> <a href='vscode-notebook-cell:/c%3A/Users/rnr31/Documents/GitHub/Ravella_DS22_Strive_School_Excercises/02.Chapter/07.Boosted%20Forest/testprep.ipynb#ch0000006?line=1'>2</a>\u001b[0m X_train \u001b[39m=\u001b[39m ohe\u001b[39m.\u001b[39;49mfit_transform(X_train[\u001b[39m'\u001b[39;49m\u001b[39msex\u001b[39;49m\u001b[39m'\u001b[39;49m])\n\u001b[0;32m      <a href='vscode-notebook-cell:/c%3A/Users/rnr31/Documents/GitHub/Ravella_DS22_Strive_School_Excercises/02.Chapter/07.Boosted%20Forest/testprep.ipynb#ch0000006?line=2'>3</a>\u001b[0m X_test \u001b[39m=\u001b[39m ohe\u001b[39m.\u001b[39mtransform(X_test[\u001b[39m'\u001b[39m\u001b[39msex\u001b[39m\u001b[39m'\u001b[39m])\n\u001b[0;32m      <a href='vscode-notebook-cell:/c%3A/Users/rnr31/Documents/GitHub/Ravella_DS22_Strive_School_Excercises/02.Chapter/07.Boosted%20Forest/testprep.ipynb#ch0000006?line=4'>5</a>\u001b[0m oe \u001b[39m=\u001b[39m OrdinalEncoder()\n",
      "File \u001b[1;32m~\\anaconda3\\envs\\ds22\\lib\\site-packages\\sklearn\\preprocessing\\_encoders.py:410\u001b[0m, in \u001b[0;36mOneHotEncoder.fit_transform\u001b[1;34m(self, X, y)\u001b[0m\n\u001b[0;32m    <a href='file:///c%3A/Users/rnr31/anaconda3/envs/ds22/lib/site-packages/sklearn/preprocessing/_encoders.py?line=389'>390</a>\u001b[0m \u001b[39m\"\"\"\u001b[39;00m\n\u001b[0;32m    <a href='file:///c%3A/Users/rnr31/anaconda3/envs/ds22/lib/site-packages/sklearn/preprocessing/_encoders.py?line=390'>391</a>\u001b[0m \u001b[39mFit OneHotEncoder to X, then transform X.\u001b[39;00m\n\u001b[0;32m    <a href='file:///c%3A/Users/rnr31/anaconda3/envs/ds22/lib/site-packages/sklearn/preprocessing/_encoders.py?line=391'>392</a>\u001b[0m \n\u001b[1;32m   (...)\u001b[0m\n\u001b[0;32m    <a href='file:///c%3A/Users/rnr31/anaconda3/envs/ds22/lib/site-packages/sklearn/preprocessing/_encoders.py?line=406'>407</a>\u001b[0m \u001b[39m    Transformed input.\u001b[39;00m\n\u001b[0;32m    <a href='file:///c%3A/Users/rnr31/anaconda3/envs/ds22/lib/site-packages/sklearn/preprocessing/_encoders.py?line=407'>408</a>\u001b[0m \u001b[39m\"\"\"\u001b[39;00m\n\u001b[0;32m    <a href='file:///c%3A/Users/rnr31/anaconda3/envs/ds22/lib/site-packages/sklearn/preprocessing/_encoders.py?line=408'>409</a>\u001b[0m \u001b[39mself\u001b[39m\u001b[39m.\u001b[39m_validate_keywords()\n\u001b[1;32m--> <a href='file:///c%3A/Users/rnr31/anaconda3/envs/ds22/lib/site-packages/sklearn/preprocessing/_encoders.py?line=409'>410</a>\u001b[0m \u001b[39mreturn\u001b[39;00m \u001b[39msuper\u001b[39;49m()\u001b[39m.\u001b[39;49mfit_transform(X, y)\n",
      "File \u001b[1;32m~\\anaconda3\\envs\\ds22\\lib\\site-packages\\sklearn\\base.py:690\u001b[0m, in \u001b[0;36mTransformerMixin.fit_transform\u001b[1;34m(self, X, y, **fit_params)\u001b[0m\n\u001b[0;32m    <a href='file:///c%3A/Users/rnr31/anaconda3/envs/ds22/lib/site-packages/sklearn/base.py?line=685'>686</a>\u001b[0m \u001b[39m# non-optimized default implementation; override when a better\u001b[39;00m\n\u001b[0;32m    <a href='file:///c%3A/Users/rnr31/anaconda3/envs/ds22/lib/site-packages/sklearn/base.py?line=686'>687</a>\u001b[0m \u001b[39m# method is possible for a given clustering algorithm\u001b[39;00m\n\u001b[0;32m    <a href='file:///c%3A/Users/rnr31/anaconda3/envs/ds22/lib/site-packages/sklearn/base.py?line=687'>688</a>\u001b[0m \u001b[39mif\u001b[39;00m y \u001b[39mis\u001b[39;00m \u001b[39mNone\u001b[39;00m:\n\u001b[0;32m    <a href='file:///c%3A/Users/rnr31/anaconda3/envs/ds22/lib/site-packages/sklearn/base.py?line=688'>689</a>\u001b[0m     \u001b[39m# fit method of arity 1 (unsupervised transformation)\u001b[39;00m\n\u001b[1;32m--> <a href='file:///c%3A/Users/rnr31/anaconda3/envs/ds22/lib/site-packages/sklearn/base.py?line=689'>690</a>\u001b[0m     \u001b[39mreturn\u001b[39;00m \u001b[39mself\u001b[39;49m\u001b[39m.\u001b[39;49mfit(X, \u001b[39m*\u001b[39;49m\u001b[39m*\u001b[39;49mfit_params)\u001b[39m.\u001b[39mtransform(X)\n\u001b[0;32m    <a href='file:///c%3A/Users/rnr31/anaconda3/envs/ds22/lib/site-packages/sklearn/base.py?line=690'>691</a>\u001b[0m \u001b[39melse\u001b[39;00m:\n\u001b[0;32m    <a href='file:///c%3A/Users/rnr31/anaconda3/envs/ds22/lib/site-packages/sklearn/base.py?line=691'>692</a>\u001b[0m     \u001b[39m# fit method of arity 2 (supervised transformation)\u001b[39;00m\n\u001b[0;32m    <a href='file:///c%3A/Users/rnr31/anaconda3/envs/ds22/lib/site-packages/sklearn/base.py?line=692'>693</a>\u001b[0m     \u001b[39mreturn\u001b[39;00m \u001b[39mself\u001b[39m\u001b[39m.\u001b[39mfit(X, y, \u001b[39m*\u001b[39m\u001b[39m*\u001b[39mfit_params)\u001b[39m.\u001b[39mtransform(X)\n",
      "File \u001b[1;32m~\\anaconda3\\envs\\ds22\\lib\\site-packages\\sklearn\\preprocessing\\_encoders.py:385\u001b[0m, in \u001b[0;36mOneHotEncoder.fit\u001b[1;34m(self, X, y)\u001b[0m\n\u001b[0;32m    <a href='file:///c%3A/Users/rnr31/anaconda3/envs/ds22/lib/site-packages/sklearn/preprocessing/_encoders.py?line=367'>368</a>\u001b[0m \u001b[39m\"\"\"\u001b[39;00m\n\u001b[0;32m    <a href='file:///c%3A/Users/rnr31/anaconda3/envs/ds22/lib/site-packages/sklearn/preprocessing/_encoders.py?line=368'>369</a>\u001b[0m \u001b[39mFit OneHotEncoder to X.\u001b[39;00m\n\u001b[0;32m    <a href='file:///c%3A/Users/rnr31/anaconda3/envs/ds22/lib/site-packages/sklearn/preprocessing/_encoders.py?line=369'>370</a>\u001b[0m \n\u001b[1;32m   (...)\u001b[0m\n\u001b[0;32m    <a href='file:///c%3A/Users/rnr31/anaconda3/envs/ds22/lib/site-packages/sklearn/preprocessing/_encoders.py?line=381'>382</a>\u001b[0m \u001b[39mself\u001b[39;00m\n\u001b[0;32m    <a href='file:///c%3A/Users/rnr31/anaconda3/envs/ds22/lib/site-packages/sklearn/preprocessing/_encoders.py?line=382'>383</a>\u001b[0m \u001b[39m\"\"\"\u001b[39;00m\n\u001b[0;32m    <a href='file:///c%3A/Users/rnr31/anaconda3/envs/ds22/lib/site-packages/sklearn/preprocessing/_encoders.py?line=383'>384</a>\u001b[0m \u001b[39mself\u001b[39m\u001b[39m.\u001b[39m_validate_keywords()\n\u001b[1;32m--> <a href='file:///c%3A/Users/rnr31/anaconda3/envs/ds22/lib/site-packages/sklearn/preprocessing/_encoders.py?line=384'>385</a>\u001b[0m \u001b[39mself\u001b[39;49m\u001b[39m.\u001b[39;49m_fit(X, handle_unknown\u001b[39m=\u001b[39;49m\u001b[39mself\u001b[39;49m\u001b[39m.\u001b[39;49mhandle_unknown)\n\u001b[0;32m    <a href='file:///c%3A/Users/rnr31/anaconda3/envs/ds22/lib/site-packages/sklearn/preprocessing/_encoders.py?line=385'>386</a>\u001b[0m \u001b[39mself\u001b[39m\u001b[39m.\u001b[39mdrop_idx_ \u001b[39m=\u001b[39m \u001b[39mself\u001b[39m\u001b[39m.\u001b[39m_compute_drop_idx()\n\u001b[0;32m    <a href='file:///c%3A/Users/rnr31/anaconda3/envs/ds22/lib/site-packages/sklearn/preprocessing/_encoders.py?line=386'>387</a>\u001b[0m \u001b[39mreturn\u001b[39;00m \u001b[39mself\u001b[39m\n",
      "File \u001b[1;32m~\\anaconda3\\envs\\ds22\\lib\\site-packages\\sklearn\\preprocessing\\_encoders.py:74\u001b[0m, in \u001b[0;36m_BaseEncoder._fit\u001b[1;34m(self, X, handle_unknown)\u001b[0m\n\u001b[0;32m     <a href='file:///c%3A/Users/rnr31/anaconda3/envs/ds22/lib/site-packages/sklearn/preprocessing/_encoders.py?line=72'>73</a>\u001b[0m \u001b[39mdef\u001b[39;00m \u001b[39m_fit\u001b[39m(\u001b[39mself\u001b[39m, X, handle_unknown\u001b[39m=\u001b[39m\u001b[39m'\u001b[39m\u001b[39merror\u001b[39m\u001b[39m'\u001b[39m):\n\u001b[1;32m---> <a href='file:///c%3A/Users/rnr31/anaconda3/envs/ds22/lib/site-packages/sklearn/preprocessing/_encoders.py?line=73'>74</a>\u001b[0m     X_list, n_samples, n_features \u001b[39m=\u001b[39m \u001b[39mself\u001b[39;49m\u001b[39m.\u001b[39;49m_check_X(X)\n\u001b[0;32m     <a href='file:///c%3A/Users/rnr31/anaconda3/envs/ds22/lib/site-packages/sklearn/preprocessing/_encoders.py?line=75'>76</a>\u001b[0m     \u001b[39mif\u001b[39;00m \u001b[39mself\u001b[39m\u001b[39m.\u001b[39mcategories \u001b[39m!=\u001b[39m \u001b[39m'\u001b[39m\u001b[39mauto\u001b[39m\u001b[39m'\u001b[39m:\n\u001b[0;32m     <a href='file:///c%3A/Users/rnr31/anaconda3/envs/ds22/lib/site-packages/sklearn/preprocessing/_encoders.py?line=76'>77</a>\u001b[0m         \u001b[39mif\u001b[39;00m \u001b[39mlen\u001b[39m(\u001b[39mself\u001b[39m\u001b[39m.\u001b[39mcategories) \u001b[39m!=\u001b[39m n_features:\n",
      "File \u001b[1;32m~\\anaconda3\\envs\\ds22\\lib\\site-packages\\sklearn\\preprocessing\\_encoders.py:43\u001b[0m, in \u001b[0;36m_BaseEncoder._check_X\u001b[1;34m(self, X)\u001b[0m\n\u001b[0;32m     <a href='file:///c%3A/Users/rnr31/anaconda3/envs/ds22/lib/site-packages/sklearn/preprocessing/_encoders.py?line=29'>30</a>\u001b[0m \u001b[39m\"\"\"\u001b[39;00m\n\u001b[0;32m     <a href='file:///c%3A/Users/rnr31/anaconda3/envs/ds22/lib/site-packages/sklearn/preprocessing/_encoders.py?line=30'>31</a>\u001b[0m \u001b[39mPerform custom check_array:\u001b[39;00m\n\u001b[0;32m     <a href='file:///c%3A/Users/rnr31/anaconda3/envs/ds22/lib/site-packages/sklearn/preprocessing/_encoders.py?line=31'>32</a>\u001b[0m \u001b[39m- convert list of strings to object dtype\u001b[39;00m\n\u001b[1;32m   (...)\u001b[0m\n\u001b[0;32m     <a href='file:///c%3A/Users/rnr31/anaconda3/envs/ds22/lib/site-packages/sklearn/preprocessing/_encoders.py?line=38'>39</a>\u001b[0m \n\u001b[0;32m     <a href='file:///c%3A/Users/rnr31/anaconda3/envs/ds22/lib/site-packages/sklearn/preprocessing/_encoders.py?line=39'>40</a>\u001b[0m \u001b[39m\"\"\"\u001b[39;00m\n\u001b[0;32m     <a href='file:///c%3A/Users/rnr31/anaconda3/envs/ds22/lib/site-packages/sklearn/preprocessing/_encoders.py?line=40'>41</a>\u001b[0m \u001b[39mif\u001b[39;00m \u001b[39mnot\u001b[39;00m (\u001b[39mhasattr\u001b[39m(X, \u001b[39m'\u001b[39m\u001b[39miloc\u001b[39m\u001b[39m'\u001b[39m) \u001b[39mand\u001b[39;00m \u001b[39mgetattr\u001b[39m(X, \u001b[39m'\u001b[39m\u001b[39mndim\u001b[39m\u001b[39m'\u001b[39m, \u001b[39m0\u001b[39m) \u001b[39m==\u001b[39m \u001b[39m2\u001b[39m):\n\u001b[0;32m     <a href='file:///c%3A/Users/rnr31/anaconda3/envs/ds22/lib/site-packages/sklearn/preprocessing/_encoders.py?line=41'>42</a>\u001b[0m     \u001b[39m# if not a dataframe, do normal check_array validation\u001b[39;00m\n\u001b[1;32m---> <a href='file:///c%3A/Users/rnr31/anaconda3/envs/ds22/lib/site-packages/sklearn/preprocessing/_encoders.py?line=42'>43</a>\u001b[0m     X_temp \u001b[39m=\u001b[39m check_array(X, dtype\u001b[39m=\u001b[39;49m\u001b[39mNone\u001b[39;49;00m)\n\u001b[0;32m     <a href='file:///c%3A/Users/rnr31/anaconda3/envs/ds22/lib/site-packages/sklearn/preprocessing/_encoders.py?line=43'>44</a>\u001b[0m     \u001b[39mif\u001b[39;00m (\u001b[39mnot\u001b[39;00m \u001b[39mhasattr\u001b[39m(X, \u001b[39m'\u001b[39m\u001b[39mdtype\u001b[39m\u001b[39m'\u001b[39m)\n\u001b[0;32m     <a href='file:///c%3A/Users/rnr31/anaconda3/envs/ds22/lib/site-packages/sklearn/preprocessing/_encoders.py?line=44'>45</a>\u001b[0m             \u001b[39mand\u001b[39;00m np\u001b[39m.\u001b[39missubdtype(X_temp\u001b[39m.\u001b[39mdtype, np\u001b[39m.\u001b[39mstr_)):\n\u001b[0;32m     <a href='file:///c%3A/Users/rnr31/anaconda3/envs/ds22/lib/site-packages/sklearn/preprocessing/_encoders.py?line=45'>46</a>\u001b[0m         X \u001b[39m=\u001b[39m check_array(X, dtype\u001b[39m=\u001b[39mnp\u001b[39m.\u001b[39mobject)\n",
      "File \u001b[1;32m~\\anaconda3\\envs\\ds22\\lib\\site-packages\\sklearn\\utils\\validation.py:72\u001b[0m, in \u001b[0;36m_deprecate_positional_args.<locals>.inner_f\u001b[1;34m(*args, **kwargs)\u001b[0m\n\u001b[0;32m     <a href='file:///c%3A/Users/rnr31/anaconda3/envs/ds22/lib/site-packages/sklearn/utils/validation.py?line=66'>67</a>\u001b[0m     warnings\u001b[39m.\u001b[39mwarn(\u001b[39m\"\u001b[39m\u001b[39mPass \u001b[39m\u001b[39m{}\u001b[39;00m\u001b[39m as keyword args. From version 0.25 \u001b[39m\u001b[39m\"\u001b[39m\n\u001b[0;32m     <a href='file:///c%3A/Users/rnr31/anaconda3/envs/ds22/lib/site-packages/sklearn/utils/validation.py?line=67'>68</a>\u001b[0m                   \u001b[39m\"\u001b[39m\u001b[39mpassing these as positional arguments will \u001b[39m\u001b[39m\"\u001b[39m\n\u001b[0;32m     <a href='file:///c%3A/Users/rnr31/anaconda3/envs/ds22/lib/site-packages/sklearn/utils/validation.py?line=68'>69</a>\u001b[0m                   \u001b[39m\"\u001b[39m\u001b[39mresult in an error\u001b[39m\u001b[39m\"\u001b[39m\u001b[39m.\u001b[39mformat(\u001b[39m\"\u001b[39m\u001b[39m, \u001b[39m\u001b[39m\"\u001b[39m\u001b[39m.\u001b[39mjoin(args_msg)),\n\u001b[0;32m     <a href='file:///c%3A/Users/rnr31/anaconda3/envs/ds22/lib/site-packages/sklearn/utils/validation.py?line=69'>70</a>\u001b[0m                   \u001b[39mFutureWarning\u001b[39;00m)\n\u001b[0;32m     <a href='file:///c%3A/Users/rnr31/anaconda3/envs/ds22/lib/site-packages/sklearn/utils/validation.py?line=70'>71</a>\u001b[0m kwargs\u001b[39m.\u001b[39mupdate({k: arg \u001b[39mfor\u001b[39;00m k, arg \u001b[39min\u001b[39;00m \u001b[39mzip\u001b[39m(sig\u001b[39m.\u001b[39mparameters, args)})\n\u001b[1;32m---> <a href='file:///c%3A/Users/rnr31/anaconda3/envs/ds22/lib/site-packages/sklearn/utils/validation.py?line=71'>72</a>\u001b[0m \u001b[39mreturn\u001b[39;00m f(\u001b[39m*\u001b[39;49m\u001b[39m*\u001b[39;49mkwargs)\n",
      "File \u001b[1;32m~\\anaconda3\\envs\\ds22\\lib\\site-packages\\sklearn\\utils\\validation.py:619\u001b[0m, in \u001b[0;36mcheck_array\u001b[1;34m(array, accept_sparse, accept_large_sparse, dtype, order, copy, force_all_finite, ensure_2d, allow_nd, ensure_min_samples, ensure_min_features, estimator)\u001b[0m\n\u001b[0;32m    <a href='file:///c%3A/Users/rnr31/anaconda3/envs/ds22/lib/site-packages/sklearn/utils/validation.py?line=616'>617</a>\u001b[0m     \u001b[39m# If input is 1D raise error\u001b[39;00m\n\u001b[0;32m    <a href='file:///c%3A/Users/rnr31/anaconda3/envs/ds22/lib/site-packages/sklearn/utils/validation.py?line=617'>618</a>\u001b[0m     \u001b[39mif\u001b[39;00m array\u001b[39m.\u001b[39mndim \u001b[39m==\u001b[39m \u001b[39m1\u001b[39m:\n\u001b[1;32m--> <a href='file:///c%3A/Users/rnr31/anaconda3/envs/ds22/lib/site-packages/sklearn/utils/validation.py?line=618'>619</a>\u001b[0m         \u001b[39mraise\u001b[39;00m \u001b[39mValueError\u001b[39;00m(\n\u001b[0;32m    <a href='file:///c%3A/Users/rnr31/anaconda3/envs/ds22/lib/site-packages/sklearn/utils/validation.py?line=619'>620</a>\u001b[0m             \u001b[39m\"\u001b[39m\u001b[39mExpected 2D array, got 1D array instead:\u001b[39m\u001b[39m\\n\u001b[39;00m\u001b[39marray=\u001b[39m\u001b[39m{}\u001b[39;00m\u001b[39m.\u001b[39m\u001b[39m\\n\u001b[39;00m\u001b[39m\"\u001b[39m\n\u001b[0;32m    <a href='file:///c%3A/Users/rnr31/anaconda3/envs/ds22/lib/site-packages/sklearn/utils/validation.py?line=620'>621</a>\u001b[0m             \u001b[39m\"\u001b[39m\u001b[39mReshape your data either using array.reshape(-1, 1) if \u001b[39m\u001b[39m\"\u001b[39m\n\u001b[0;32m    <a href='file:///c%3A/Users/rnr31/anaconda3/envs/ds22/lib/site-packages/sklearn/utils/validation.py?line=621'>622</a>\u001b[0m             \u001b[39m\"\u001b[39m\u001b[39myour data has a single feature or array.reshape(1, -1) \u001b[39m\u001b[39m\"\u001b[39m\n\u001b[0;32m    <a href='file:///c%3A/Users/rnr31/anaconda3/envs/ds22/lib/site-packages/sklearn/utils/validation.py?line=622'>623</a>\u001b[0m             \u001b[39m\"\u001b[39m\u001b[39mif it contains a single sample.\u001b[39m\u001b[39m\"\u001b[39m\u001b[39m.\u001b[39mformat(array))\n\u001b[0;32m    <a href='file:///c%3A/Users/rnr31/anaconda3/envs/ds22/lib/site-packages/sklearn/utils/validation.py?line=624'>625</a>\u001b[0m \u001b[39m# in the future np.flexible dtypes will be handled like object dtypes\u001b[39;00m\n\u001b[0;32m    <a href='file:///c%3A/Users/rnr31/anaconda3/envs/ds22/lib/site-packages/sklearn/utils/validation.py?line=625'>626</a>\u001b[0m \u001b[39mif\u001b[39;00m dtype_numeric \u001b[39mand\u001b[39;00m np\u001b[39m.\u001b[39missubdtype(array\u001b[39m.\u001b[39mdtype, np\u001b[39m.\u001b[39mflexible):\n",
      "\u001b[1;31mValueError\u001b[0m: Expected 2D array, got 1D array instead:\narray=['female' 'male' 'female' 'male' 'male' 'male' 'female' 'male' 'female'\n 'male' 'female' 'female' 'male' 'female' 'male' 'male' 'male' 'male'\n 'male' 'male' 'male' 'male' 'male' 'male' 'female' 'female' 'female'\n 'female' 'male' 'female' 'female' 'female' 'female' 'female' 'female'\n 'male' 'female' 'male' 'female' 'male' 'female' 'male' 'female' 'female'\n 'male' 'male' 'female' 'male' 'male' 'male' 'male' 'male' 'male' 'male'\n 'male' 'male' 'female' 'male' 'male' 'female' 'female' 'female' 'male'\n 'female' 'male' 'male' 'female' 'female' 'male' 'male' 'female' 'male'\n 'male' 'female' 'male' 'male' 'female' 'female' 'female' 'male' 'male'\n 'male' 'female' 'female' 'male' 'male' 'female' 'male' 'female' 'male'\n 'female' 'male' 'female' 'male' 'female' 'female' 'male' 'male' 'female'\n 'male' 'male' 'male' 'female' 'female' 'female' 'male' 'male' 'female'\n 'male' 'male' 'female' 'male' 'male' 'female' 'male' 'female' 'male'\n 'female' 'female' 'male' 'female' 'female' 'male' 'male' 'female'\n 'female' 'female' 'female' 'female' 'female' 'male' 'male' 'female'\n 'male' 'female' 'male' 'female' 'female' 'male' 'male' 'female' 'female'\n 'male' 'male' 'male' 'female' 'male' 'female' 'male' 'female' 'female'\n 'male' 'male' 'male' 'male' 'female' 'female' 'male' 'female' 'male'\n 'male' 'male' 'male' 'female' 'female' 'male' 'female' 'male' 'male'\n 'male' 'female' 'female' 'male' 'female' 'male' 'male' 'male' 'female'\n 'female' 'female' 'female' 'male' 'male' 'male' 'male' 'female' 'female'\n 'female' 'male' 'male' 'male' 'female' 'male' 'female' 'female' 'male'\n 'male' 'female' 'male' 'male' 'female' 'female' 'female' 'female'\n 'female' 'female' 'female' 'female' 'female' 'female' 'male' 'male'\n 'male' 'male' 'female' 'male' 'male' 'female' 'male' 'male' 'male'\n 'female' 'female' 'male' 'female' 'female' 'male' 'female' 'male' 'male'\n 'female' 'female' 'female' 'male' 'female' 'male' 'male' 'male' 'male'\n 'male' 'female' 'male' 'male' 'male' 'male' 'male' 'female' 'male' 'male'\n 'female' 'male' 'male' 'female' 'male' 'male' 'male' 'female' 'male'\n 'female' 'female' 'female' 'female' 'male' 'male' 'female' 'female'\n 'male' 'male' 'female' 'male' 'male' 'male' 'female' 'male' 'male' 'male'\n 'female' 'female' 'male' 'female' 'male' 'male' 'male' 'male' 'female'\n 'female' 'male' 'female' 'female' 'male' 'female' 'male' 'female' 'male'\n 'male' 'male' 'male' 'female' 'female' 'male' 'male' 'female' 'female'\n 'male' 'male' 'female' 'female' 'male' 'female' 'male' 'female' 'female'\n 'male' 'male' 'male' 'female' 'male' 'male' 'female' 'female' 'male'\n 'female' 'female' 'female' 'female' 'male' 'female' 'male' 'male' 'male'\n 'female' 'male' 'male' 'female' 'female' 'male' 'male' 'female' 'female'\n 'female' 'male' 'female' 'female' 'male' 'female' 'male' 'male' 'female'\n 'female' 'male' 'female' 'male' 'female' 'male' 'male' 'male' 'male'\n 'male' 'male' 'male' 'female' 'female' 'male' 'male' 'female' 'female'\n 'female' 'female' 'male' 'male' 'female' 'male' 'male' 'female' 'female'\n 'male' 'male' 'female' 'female' 'male' 'female' 'male' 'male' 'male'\n 'male' 'female' 'male' 'male' 'male' 'female' 'female' 'male' 'female'\n 'female' 'female' 'male' 'male' 'female' 'female' 'male' 'female' 'male'\n 'female' 'female' 'female' 'male' 'female' 'male' 'female' 'male'\n 'female' 'male' 'male' 'male' 'male' 'male' 'male' 'male' 'female' 'male'\n 'female' 'male' 'male' 'female' 'male' 'male' 'female' 'female' 'male'\n 'male' 'female' 'female' 'male' 'female' 'male' 'female' 'female' 'male'\n 'female' 'male' 'female' 'female' 'male' 'male' 'female' 'male' 'female'\n 'female' 'female' 'female' 'male' 'female' 'female' 'male' 'female'\n 'male' 'female' 'male' 'female' 'male' 'female' 'female' 'female'\n 'female' 'male' 'female' 'female' 'female' 'male' 'female' 'male'\n 'female' 'female' 'female' 'male' 'male' 'male' 'female' 'male' 'male'\n 'male' 'female' 'male' 'female' 'male' 'male' 'female' 'female' 'male'\n 'female' 'male' 'male' 'female' 'female' 'male' 'female' 'female' 'male'\n 'female' 'male' 'male' 'male' 'female' 'female' 'male' 'female' 'male'\n 'female' 'male' 'female' 'male' 'male' 'male' 'female' 'female' 'male'\n 'male' 'male' 'female' 'female' 'male' 'female' 'female' 'female'\n 'female' 'female' 'male' 'male' 'female' 'male' 'female' 'male' 'female'\n 'female' 'male' 'female' 'female' 'male' 'male' 'female' 'female' 'male'\n 'female' 'female' 'female' 'male' 'male' 'female' 'female' 'male'\n 'female' 'male' 'female' 'male' 'male' 'male' 'female' 'female' 'female'\n 'female' 'female' 'male' 'male' 'male' 'female' 'female' 'female'\n 'female' 'female' 'male' 'male' 'female' 'male' 'male' 'male' 'male'\n 'female' 'male' 'male' 'female' 'female' 'male' 'female' 'male' 'male'\n 'male' 'male' 'female' 'female' 'female' 'female' 'male' 'female' 'male'\n 'male' 'female' 'female' 'female' 'male' 'female' 'male' 'female' 'male'\n 'female' 'male' 'male' 'male' 'male' 'female' 'male' 'male' 'male'\n 'female' 'female' 'male' 'female' 'male' 'male' 'male' 'male' 'female'\n 'female' 'female' 'female' 'female' 'male' 'male' 'male' 'female'\n 'female' 'female' 'male' 'male' 'male' 'female' 'male' 'male' 'male'\n 'female' 'female' 'female' 'female' 'male' 'male' 'female' 'male'\n 'female' 'female' 'female' 'female' 'male' 'male' 'female' 'male'\n 'female' 'female' 'male' 'female' 'male' 'female' 'male' 'female' 'male'\n 'female' 'female' 'female' 'female' 'female' 'male' 'female' 'male'\n 'male' 'female' 'male' 'male' 'female' 'female' 'female' 'female' 'male'\n 'male' 'female' 'female' 'male' 'female' 'male' 'male' 'male' 'male'\n 'male' 'female' 'female' 'male' 'male' 'male' 'female' 'male' 'female'\n 'female' 'male' 'female' 'female' 'male' 'male' 'male' 'male' 'female'\n 'female' 'male' 'female' 'female' 'female' 'male' 'female' 'male' 'male'\n 'male' 'male' 'male' 'male' 'female' 'male' 'male' 'male' 'female'\n 'female' 'male' 'male' 'male' 'female' 'female' 'male' 'male' 'female'\n 'male' 'male' 'female' 'male' 'female' 'female' 'male' 'male' 'female'\n 'male' 'female' 'female' 'male' 'female' 'female' 'male' 'male' 'male'\n 'male' 'female' 'female' 'female' 'female' 'female' 'female' 'female'\n 'female' 'male' 'female' 'male' 'female' 'female' 'male' 'female'\n 'female' 'male' 'male' 'male' 'male' 'female' 'male' 'male' 'female'\n 'female' 'female' 'male' 'female' 'male' 'male' 'female' 'female' 'male'\n 'female' 'female' 'female' 'male' 'male' 'female' 'male' 'male' 'female'\n 'male' 'female' 'male' 'male' 'female' 'female' 'female' 'female' 'male'\n 'female' 'male' 'male' 'male' 'female' 'female' 'male' 'male' 'male'\n 'female' 'male' 'male' 'male' 'male' 'male' 'male' 'female' 'female'\n 'female' 'male' 'male' 'male' 'female' 'male' 'male' 'female' 'male'\n 'male' 'female' 'female' 'male' 'female' 'female' 'female' 'female'\n 'female' 'male' 'female' 'male' 'male' 'male' 'female' 'female' 'female'\n 'female' 'male' 'female' 'female' 'female' 'male' 'female' 'male'\n 'female' 'male' 'female' 'male' 'male' 'female' 'male' 'female' 'male'\n 'female' 'male' 'female' 'female' 'female' 'female' 'male' 'male'\n 'female' 'female' 'female' 'female' 'male' 'female' 'male' 'male'\n 'female' 'male' 'female' 'male' 'female' 'male' 'female' 'female' 'male'\n 'female' 'male' 'female' 'male' 'female' 'male' 'female' 'female' 'male'\n 'male' 'male' 'male' 'male' 'female' 'male' 'female' 'male' 'male' 'male'\n 'female' 'male' 'male' 'female' 'female' 'female' 'male' 'male' 'male'\n 'male' 'female' 'male' 'female' 'female' 'female' 'female' 'female'\n 'female' 'male' 'female' 'male' 'male' 'female' 'female' 'male' 'female'\n 'male'].\nReshape your data either using array.reshape(-1, 1) if your data has a single feature or array.reshape(1, -1) if it contains a single sample."
     ]
    }
   ],
   "source": [
    "ohe = OneHotEncoder()\n",
    "X_train = ohe.fit_transform(X_train['sex'])\n",
    "X_test = ohe.transform(X_test['sex'])\n",
    "\n",
    "oe = OrdinalEncoder()\n",
    "X_train = oe.fit_transform(X_train['region'])\n",
    "X_test = oe.transform(X_test['region'])\n",
    "\n",
    "le = LabelEncoder()\n",
    "X_train = le.fit_transform(X_train['children'])\n",
    "X_test = le.transform(X_test['children'])\n",
    "X_train.head()"
   ]
  }
 ],
 "metadata": {
  "interpreter": {
   "hash": "6dd76bf1bda3cfcc2b9c79ebe58e8411420a10c087c30911fe701ec6ed40def1"
  },
  "kernelspec": {
   "display_name": "Python 3.8.12 ('ds22')",
   "language": "python",
   "name": "python3"
  },
  "language_info": {
   "codemirror_mode": {
    "name": "ipython",
    "version": 3
   },
   "file_extension": ".py",
   "mimetype": "text/x-python",
   "name": "python",
   "nbconvert_exporter": "python",
   "pygments_lexer": "ipython3",
   "version": "3.8.12"
  },
  "orig_nbformat": 4
 },
 "nbformat": 4,
 "nbformat_minor": 2
}
