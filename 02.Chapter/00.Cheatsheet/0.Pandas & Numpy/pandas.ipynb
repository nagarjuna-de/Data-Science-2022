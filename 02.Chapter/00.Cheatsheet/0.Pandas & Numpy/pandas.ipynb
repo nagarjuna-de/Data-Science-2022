{
 "cells": [
  {
   "cell_type": "markdown",
   "metadata": {},
   "source": [
    "#### Pandas Datframe Resetting of Index  \n",
    "we need to reset index of a dataframe, when we delete the duplicates, sorting values by column and so on.  \n",
    "`data.reset_index(drop=True, inplace = True)`  \n"
   ]
  },
  {
   "cell_type": "markdown",
   "metadata": {},
   "source": [
    "#### pd.cut -- to categorize dataframe column with numerical ranges  \n",
    "data['m_a_e_n'] = pd.cut(data['hour'], bins=[4,11,17,22], labels = [0, 1,2])  \n",
    "Need to be careful with the bins\n",
    "bins are excatly opposite to the Indexing/slicing/`range`  \n",
    "range =(1,10) -- start value-1 is considered and stops exactly 1value before the end value  \n",
    "bins = [1,10] -- starts with one value after start value(means-2) and end value is considered  \n",
    "`What if bin has multiple values`  \n",
    "df['c2'] = pd.cut(df['c2'], bins =[10,13,15,17,19,21] , labels = [0,2,4,6,8])   \n",
    "10-13 --- 10 is not considered, 11,12,13   \n",
    "13-15 --- 13 is not considered, 14,15  \n",
    "15-17 --- 15 is not considered. 16,17  \n",
    "17-19 --- 17 is not considered, 18,19  \n",
    "19-21 --- 19 is not considered, 20,21,22  \n",
    "`Tip`-- start with '1' lessthan start value and end with exact stop value\n"
   ]
  }
 ],
 "metadata": {
  "language_info": {
   "name": "python"
  },
  "orig_nbformat": 4
 },
 "nbformat": 4,
 "nbformat_minor": 2
}
