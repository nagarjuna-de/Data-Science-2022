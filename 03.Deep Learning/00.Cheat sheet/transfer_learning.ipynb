{
 "cells": [
  {
   "cell_type": "markdown",
   "metadata": {},
   "source": [
    "#### Transfer Learning Strategies."
   ]
  },
  {
   "cell_type": "markdown",
   "metadata": {},
   "source": [
    "#### Scenario-1\n",
    "If we have a `small target dataset` and similar to the training dataset.  \n",
    "target dataset- The dataset what we have  \n",
    "training dataset -- The dataset of the pretrained model.  \n",
    "\n",
    "Solution: Freeze all the weights of CNN and retrain only linear layers"
   ]
  },
  {
   "cell_type": "markdown",
   "metadata": {},
   "source": [
    "#### Scenario-2\n",
    "if we have a `big target dataset` that is smiliar to training dataset\n",
    "\n",
    "Replace the linear/Fully connected layers with a new classifier.\n",
    "\n",
    "Train the entire model.\n"
   ]
  },
  {
   "cell_type": "markdown",
   "metadata": {},
   "source": [
    "#### Scenario-3\n",
    "If we have a `small target dataset` that is very `different from the training datset`.  \n",
    "\n",
    "Since the task is different, only low level features are meaningful that you can find at first convolutional layers.  \n",
    "\n",
    "Solution:\n",
    "Freeze the first convolutional layers and drop the high-level convolutional layers and put a fully connected layer on top of it.  \n"
   ]
  },
  {
   "cell_type": "markdown",
   "metadata": {},
   "source": [
    "#### Scenario-4\n",
    "If we have a `big target dataset` that is very `different from the training datset`.  \n",
    "\n",
    "Since the task is different, only low level features are meaningful that you can find at first convolutional layers.  \n",
    "\n",
    "Solution:\n",
    "Replace the fully  connected layer with a classifier of your choice and retrain everything."
   ]
  }
 ],
 "metadata": {
  "language_info": {
   "name": "python"
  },
  "orig_nbformat": 4
 },
 "nbformat": 4,
 "nbformat_minor": 2
}
