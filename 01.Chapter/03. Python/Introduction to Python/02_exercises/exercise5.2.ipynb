{
 "cells": [
  {
   "cell_type": "code",
   "execution_count": null,
   "metadata": {},
   "outputs": [],
   "source": []
  },
  {
   "cell_type": "markdown",
   "metadata": {},
   "source": [
    "**Exercise 5.2:** Write and test three functions that return the largest, the smallest, and the number of dividables by 3 in a given collection of numbers. Use the algorithm described earlier in the Part 5 lecture :)"
   ]
  },
  {
   "cell_type": "code",
   "execution_count": 2,
   "metadata": {},
   "outputs": [
    {
     "name": "stdout",
     "output_type": "stream",
     "text": [
      "100\n",
      "2\n",
      "6 This number is dividable by 3\n",
      "12 This number is dividable by 3\n",
      "15 This number is dividable by 3\n",
      "99 This number is dividable by 3\n"
     ]
    }
   ],
   "source": [
    "# Your functions\n",
    "a = [2, 4, 6, 12, 15, 99, 100]\n",
    "# function for maximum\n",
    "def maxlist():\n",
    "    print(max(a))\n",
    "maxlist()\n",
    "# function for minimum\n",
    "def minlist():\n",
    "    print(min(a))\n",
    "minlist()\n",
    "# function for dividable by 3.\n",
    "def dividablelist():\n",
    "    for i in (a):\n",
    "        if i % 3 == 0:\n",
    "            print(i , \"This number is dividable by 3\")\n",
    "dividablelist()\n",
    "\n"
   ]
  }
 ],
 "metadata": {
  "interpreter": {
   "hash": "6dd76bf1bda3cfcc2b9c79ebe58e8411420a10c087c30911fe701ec6ed40def1"
  },
  "kernelspec": {
   "display_name": "Python 3.8.12 64-bit ('ds22': conda)",
   "language": "python",
   "name": "python3"
  },
  "language_info": {
   "codemirror_mode": {
    "name": "ipython",
    "version": 3
   },
   "file_extension": ".py",
   "mimetype": "text/x-python",
   "name": "python",
   "nbconvert_exporter": "python",
   "pygments_lexer": "ipython3",
   "version": "3.8.12"
  },
  "orig_nbformat": 4
 },
 "nbformat": 4,
 "nbformat_minor": 2
}
