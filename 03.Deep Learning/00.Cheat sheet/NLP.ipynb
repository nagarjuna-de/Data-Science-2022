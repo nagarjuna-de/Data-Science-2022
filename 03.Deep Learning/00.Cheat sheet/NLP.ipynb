{
 "cells": [
  {
   "cell_type": "code",
   "execution_count": 1,
   "metadata": {},
   "outputs": [],
   "source": [
    "import spacy"
   ]
  },
  {
   "cell_type": "code",
   "execution_count": null,
   "metadata": {},
   "outputs": [],
   "source": [
    "nlp = spacy.load()"
   ]
  }
 ],
 "metadata": {
  "interpreter": {
   "hash": "d6a88286319d0d529453aaad86e23161652ae20ee8331519045b47d8d7f809e4"
  },
  "kernelspec": {
   "display_name": "Python 3.8.13 ('pipcv22')",
   "language": "python",
   "name": "python3"
  },
  "language_info": {
   "codemirror_mode": {
    "name": "ipython",
    "version": 3
   },
   "file_extension": ".py",
   "mimetype": "text/x-python",
   "name": "python",
   "nbconvert_exporter": "python",
   "pygments_lexer": "ipython3",
   "version": "3.8.13"
  },
  "orig_nbformat": 4
 },
 "nbformat": 4,
 "nbformat_minor": 2
}
