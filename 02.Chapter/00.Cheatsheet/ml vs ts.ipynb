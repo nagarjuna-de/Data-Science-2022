{
 "cells": [
  {
   "cell_type": "markdown",
   "metadata": {},
   "source": [
    "### Steps performed for normal dataset.\n",
    "\n",
    "1. Load the dataset from csv or url.  \n",
    "2. Create a Pandas dataframe with column names.  \n",
    "3. Check for null values and duplicate rows.  \n",
    "4. Perform Data preprocessing such as deleting rows and columns(with most null values) or adding missing values. \n",
    "5. Perform EDA on the data to check the correlation b/w the fatures and target.\n",
    "6. Perform Dimesionality reduction using PCA/LDA if required. \n",
    "5. Divide the dataframe into features and target.  \n",
    "5. Create pipeline that uses Encoders to convert numerical columns to Categorical columns such as OHE, Label encoder.  \n",
    "6. Create pipeline that performs Scaling on Numerical columns such as Normalization/standardization.  \n",
    "7. Create a dictionary of ML models that we are going to train and test.  \n",
    "8. Make pipeline that has all the Encoding pipeline, scaline pipeline and models.  \n",
    "9. Using sklearn perform train-test-split or Startified K-fold.  \n",
    "10. Agument data to train set if necessary.\n",
    "10. Train the model pipleline using training dataset.  \n",
    "11. Test the models using test dataset.  \n",
    "12. Using sklearn metrics check the performance of the model.\n",
    "13. Use Hyperparameter tuning to improve the accuracy.\n",
    "13. Check the performance of our model by giving user-input values.\n",
    "\n"
   ]
  },
  {
   "cell_type": "markdown",
   "metadata": {},
   "source": [
    "### Steps performed for Timeseries Dataset."
   ]
  }
 ],
 "metadata": {
  "interpreter": {
   "hash": "6dd76bf1bda3cfcc2b9c79ebe58e8411420a10c087c30911fe701ec6ed40def1"
  },
  "kernelspec": {
   "display_name": "Python 3.8.12 ('ds22')",
   "language": "python",
   "name": "python3"
  },
  "language_info": {
   "codemirror_mode": {
    "name": "ipython",
    "version": 3
   },
   "file_extension": ".py",
   "mimetype": "text/x-python",
   "name": "python",
   "nbconvert_exporter": "python",
   "pygments_lexer": "ipython3",
   "version": "3.8.12"
  },
  "orig_nbformat": 4
 },
 "nbformat": 4,
 "nbformat_minor": 2
}
