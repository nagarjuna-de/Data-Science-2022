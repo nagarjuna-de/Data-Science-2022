{
 "cells": [
  {
   "cell_type": "markdown",
   "metadata": {},
   "source": [
    "## Feature Engineering  \n",
    "### Feature Selection  \n",
    "Selection of `Features` which contribute most to the prediction variable  \n",
    "Develop an Intuition towards some features that are needed to solve the problem and remove unnecessary features.  \n",
    "Techniques for the FE\n",
    "1. Correlation of features with target variable  \n",
    "df.corr()['y_feature'].sort_values().plot.branch() (`Based on +/- correlation`)  \n",
    "df.corr()['y_feature'].abs().sort_values().plot.branch() (`Based on True correlation`)\n",
    "This is pearson correlation and this applicable only to numerical features  \n",
    "  \n",
    "2. Methods for plotting feature importance.  \n",
    "** Correlation as described in `point-1`  \n",
    "** Feature importance of some models when we train them.  \n",
    "1.Linear models(`model.coef_`) 2.XGBoost 3.LightGBM 4.Random Forest(model.feature_importances_)  \n",
    "** Permutation feature importance for every ML model.  \n",
    "`from sklearn.inspection import permutation_importance`  \n",
    "** SHAP- Individual feature importance.  \n",
    "  \n",
    "3. Automatic feature selection.  \n",
    "There are lots of them, most important them of are  \n",
    "`Variance Threshold` and `select KBest.`  \n",
    "\n",
    "#### Types of correlation according to variables.\n",
    "<img src=\"types_of_correlation.PNG\"\n",
    "     alt=\"Markdown Monster icon\"\n",
    "     style=\"float: left; margin-right: 10px;\" />\n"
   ]
  },
  {
   "cell_type": "code",
   "execution_count": 2,
   "metadata": {},
   "outputs": [],
   "source": [
    "import pandas as pd\n",
    "import numpy as np"
   ]
  },
  {
   "cell_type": "code",
   "execution_count": 3,
   "metadata": {},
   "outputs": [
    {
     "ename": "AttributeError",
     "evalue": "'PlotAccessor' object has no attribute 'branch'",
     "output_type": "error",
     "traceback": [
      "\u001b[1;31m---------------------------------------------------------------------------\u001b[0m",
      "\u001b[1;31mAttributeError\u001b[0m                            Traceback (most recent call last)",
      "\u001b[1;32mc:\\Users\\rnr31\\Documents\\GitHub\\Ravella_DS22_Strive_School_Excercises\\02.Chapter\\00.Cheatsheet\\fe.ipynb Cell 3'\u001b[0m in \u001b[0;36m<module>\u001b[1;34m\u001b[0m\n\u001b[0;32m     <a href='vscode-notebook-cell:/c%3A/Users/rnr31/Documents/GitHub/Ravella_DS22_Strive_School_Excercises/02.Chapter/00.Cheatsheet/fe.ipynb#ch0000002?line=11'>12</a>\u001b[0m \u001b[39m# we need to append our random data to our origin df\u001b[39;00m\n\u001b[0;32m     <a href='vscode-notebook-cell:/c%3A/Users/rnr31/Documents/GitHub/Ravella_DS22_Strive_School_Excercises/02.Chapter/00.Cheatsheet/fe.ipynb#ch0000002?line=12'>13</a>\u001b[0m df \u001b[39m=\u001b[39m df\u001b[39m.\u001b[39mappend(df_new\u001b[39m.\u001b[39msample(\u001b[39mint\u001b[39m(df_new\u001b[39m.\u001b[39mshape[\u001b[39m0\u001b[39m]\u001b[39m/\u001b[39m\u001b[39m4\u001b[39m)))\n\u001b[1;32m---> <a href='vscode-notebook-cell:/c%3A/Users/rnr31/Documents/GitHub/Ravella_DS22_Strive_School_Excercises/02.Chapter/00.Cheatsheet/fe.ipynb#ch0000002?line=14'>15</a>\u001b[0m df\u001b[39m.\u001b[39;49mcorr()[\u001b[39m'\u001b[39;49m\u001b[39mmean speed\u001b[39;49m\u001b[39m'\u001b[39;49m]\u001b[39m.\u001b[39;49msort_values()\u001b[39m.\u001b[39;49mplot\u001b[39m.\u001b[39;49mbranch()\n",
      "\u001b[1;31mAttributeError\u001b[0m: 'PlotAccessor' object has no attribute 'branch'"
     ]
    }
   ],
   "source": [
    "# feature generation. We have give kms travelled in particular time \n",
    "#but relation between time and distance is missing \n",
    "# So, we add a feature by using the distance and time features.\n",
    "# speed = distance/time\n",
    "df = pd.DataFrame({'km':[1,2,3,4],'hours':[1,1,2,1]})\n",
    "df['mean speed'] = df.apply(lambda row:  row['km']/row['hours'], axis=1)\n",
    "df\n",
    "# generation of Data.\n",
    "# This technique will become handy, when we have very little data\n",
    "df_new = df.copy()\n",
    "df_new[['km','hours']] = df_new.apply(lambda row: row[['km','hours']]+np.random.random_sample()*0.1, axis=1 )\n",
    "# we need to append our random data to our origin df\n",
    "df = df.append(df_new.sample(int(df_new.shape[0]/4)))\n",
    "\n",
    "df.corr()['mean speed'].sort_values().plot.branch()"
   ]
  },
  {
   "cell_type": "code",
   "execution_count": null,
   "metadata": {},
   "outputs": [],
   "source": [
    "import pandas as pd\n",
    "import numpy as np\n",
    "from sklearn.model_selection import train_test_split\n",
    "\n",
    "data = pd.read_csv('insurance.csv')\n",
    "x,y = data.drop(\"charges\", axis=1), data['charges']\n",
    "\n",
    "def enhance(df):\n",
    "    dfc = df.copy()\n",
    "    print(dfc)\n",
    "    for sm in dfc['smoker'].unique():\n",
    "        bmi_std = dfc[dfc]\n"
   ]
  }
 ],
 "metadata": {
  "interpreter": {
   "hash": "6dd76bf1bda3cfcc2b9c79ebe58e8411420a10c087c30911fe701ec6ed40def1"
  },
  "kernelspec": {
   "display_name": "Python 3.8.12 ('ds22')",
   "language": "python",
   "name": "python3"
  },
  "language_info": {
   "codemirror_mode": {
    "name": "ipython",
    "version": 3
   },
   "file_extension": ".py",
   "mimetype": "text/x-python",
   "name": "python",
   "nbconvert_exporter": "python",
   "pygments_lexer": "ipython3",
   "version": "3.8.12"
  },
  "orig_nbformat": 4
 },
 "nbformat": 4,
 "nbformat_minor": 2
}
