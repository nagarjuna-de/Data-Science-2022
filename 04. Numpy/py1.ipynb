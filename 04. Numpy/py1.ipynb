{
 "cells": [
  {
   "cell_type": "markdown",
   "id": "9bc647b4",
   "metadata": {},
   "source": [
    "## Remember that the solutions need to be saved int variable provided."
   ]
  },
  {
   "cell_type": "code",
   "execution_count": 1,
   "id": "01ff241f",
   "metadata": {},
   "outputs": [],
   "source": [
    "# Import the needed libraries\n",
    "import numpy as np"
   ]
  },
  {
   "cell_type": "markdown",
   "id": "120ffc53",
   "metadata": {
    "deletable": false,
    "editable": false,
    "nbgrader": {
     "cell_type": "markdown",
     "checksum": "1a39df2a0ee2ece9e42fc92195613df8",
     "grade": false,
     "grade_id": "cell-ae105ff48d81e52c",
     "locked": true,
     "schema_version": 3,
     "solution": false,
     "task": false
    }
   },
   "source": [
    "**13. Create a 10x10 array with random values and find the minimum and maximum values**"
   ]
  },
  {
   "cell_type": "code",
   "execution_count": 1,
   "id": "4212b05b",
   "metadata": {
    "deletable": false,
    "nbgrader": {
     "cell_type": "code",
     "checksum": "e939193eeb6a59d4260517d4af3eaadb",
     "grade": false,
     "grade_id": "cell-d37d68df72162149",
     "locked": false,
     "schema_version": 3,
     "solution": true,
     "task": false
    }
   },
   "outputs": [
    {
     "name": "stdout",
     "output_type": "stream",
     "text": [
      "[[0.64338994 0.45151535 0.19878269 0.04927551 0.76609425 0.82715304\n",
      "  0.12401574 0.37058843 0.40464803 0.76502228]\n",
      " [0.07285197 0.27576378 0.42560766 0.99329545 0.97405304 0.38080592\n",
      "  0.01236312 0.09428024 0.01457608 0.50483343]\n",
      " [0.67663811 0.09528849 0.65850376 0.67628484 0.6303155  0.77069465\n",
      "  0.07939629 0.61898311 0.52065809 0.73771935]\n",
      " [0.33104108 0.61238696 0.01740682 0.94643476 0.14536306 0.46213033\n",
      "  0.01907983 0.04232036 0.92692103 0.44021934]\n",
      " [0.78221783 0.47958974 0.68893455 0.11552719 0.71739182 0.05696545\n",
      "  0.53037709 0.08396891 0.61705589 0.78763082]\n",
      " [0.5047699  0.0790004  0.14020973 0.80134107 0.15561298 0.3751436\n",
      "  0.12485527 0.27079988 0.34000649 0.43048817]\n",
      " [0.38016989 0.89175419 0.68064666 0.99378532 0.27600176 0.47549515\n",
      "  0.21709852 0.72705369 0.61167508 0.86479684]\n",
      " [0.88316982 0.63058252 0.62461254 0.8334604  0.23198552 0.26953757\n",
      "  0.53100435 0.00457391 0.78741347 0.9744948 ]\n",
      " [0.08662805 0.44256803 0.74885487 0.45158636 0.11771088 0.08716392\n",
      "  0.98610788 0.29274574 0.92393138 0.16744898]\n",
      " [0.42542851 0.66849283 0.91753385 0.22685825 0.15310874 0.89331628\n",
      "  0.81141046 0.55461282 0.39285023 0.62532933]]\n",
      "0.004573912807408265\n",
      "0.9937853208624817\n"
     ]
    }
   ],
   "source": [
    "import numpy as np\n",
    "a = np.random.uniform(size = (10,10))\n",
    "print(a)\n",
    "print(np.amin(a))\n",
    "print(np.amax(a))"
   ]
  },
  {
   "cell_type": "markdown",
   "id": "5e7c785c",
   "metadata": {},
   "source": [
    "**15. Create a 2d 10x10 array with 1 on the border and 0 inside**"
   ]
  },
  {
   "cell_type": "code",
   "execution_count": 2,
   "id": "bc7d9773",
   "metadata": {
    "deletable": false,
    "nbgrader": {
     "cell_type": "code",
     "checksum": "4f00b53c9ecc26403bf5bd660c3f033c",
     "grade": false,
     "grade_id": "cell-6584e6c544771f0c",
     "locked": false,
     "schema_version": 3,
     "solution": true,
     "task": false
    }
   },
   "outputs": [
    {
     "name": "stdout",
     "output_type": "stream",
     "text": [
      "[1. 1. 1. 1. 1. 1. 1. 1. 1. 1. 1. 1. 1. 1. 1. 1. 1. 1. 1. 1. 1. 1. 1. 1.\n",
      " 1.]\n",
      "[[1. 1. 1. 1. 1.]\n",
      " [1. 1. 1. 1. 1.]\n",
      " [1. 1. 1. 1. 1.]\n",
      " [1. 1. 1. 1. 1.]\n",
      " [1. 1. 1. 1. 1.]]\n",
      "[[1. 1. 1. 1. 1.]\n",
      " [1. 0. 0. 0. 1.]\n",
      " [1. 0. 0. 0. 1.]\n",
      " [1. 0. 0. 0. 1.]\n",
      " [1. 1. 1. 1. 1.]]\n"
     ]
    }
   ],
   "source": [
    "import numpy as np\n",
    "a = np.ones(25)\n",
    "print(a)\n",
    "b = a.reshape((5,5))\n",
    "print(b)\n",
    "\n",
    "b[1:4,1:4] = 0 # first 1:4 is for rows and second one is for columns.\n",
    "print(b)\n"
   ]
  },
  {
   "cell_type": "markdown",
   "id": "5e279435",
   "metadata": {},
   "source": [
    "**34. How to get all the dates corresponding to the month of July 2016**"
   ]
  },
  {
   "cell_type": "code",
   "execution_count": 3,
   "id": "99620de8",
   "metadata": {
    "deletable": false,
    "nbgrader": {
     "cell_type": "code",
     "checksum": "0c0c212e8014f00f5ede5ec4ea42e584",
     "grade": false,
     "grade_id": "cell-9784b014be5fdf5a",
     "locked": false,
     "schema_version": 3,
     "solution": true,
     "task": false
    }
   },
   "outputs": [
    {
     "name": "stdout",
     "output_type": "stream",
     "text": [
      "['2016-07-01' '2016-07-02' '2016-07-03' '2016-07-04' '2016-07-05'\n",
      " '2016-07-06' '2016-07-07' '2016-07-08' '2016-07-09' '2016-07-10'\n",
      " '2016-07-11' '2016-07-12' '2016-07-13' '2016-07-14' '2016-07-15'\n",
      " '2016-07-16' '2016-07-17' '2016-07-18' '2016-07-19' '2016-07-20'\n",
      " '2016-07-21' '2016-07-22' '2016-07-23' '2016-07-24' '2016-07-25'\n",
      " '2016-07-26' '2016-07-27' '2016-07-28' '2016-07-29' '2016-07-30'\n",
      " '2016-07-31']\n"
     ]
    }
   ],
   "source": [
    "import numpy as np\n",
    "a = np.arange('2016-07','2016-08',dtype='datetime64[D]')\n",
    "print(a)"
   ]
  },
  {
   "cell_type": "markdown",
   "id": "d8e224a9",
   "metadata": {},
   "source": [
    "**42. Consider two random arrays based on the normal and uniform distributions 10x10 sol41 and sol42, check if they are equal**"
   ]
  },
  {
   "cell_type": "code",
   "execution_count": 4,
   "id": "2156ebee",
   "metadata": {
    "deletable": false,
    "nbgrader": {
     "cell_type": "code",
     "checksum": "52c996342988d9baa17167d47cf5701c",
     "grade": false,
     "grade_id": "cell-5000744434ae05a2",
     "locked": false,
     "schema_version": 3,
     "solution": true,
     "task": false
    }
   },
   "outputs": [
    {
     "name": "stdout",
     "output_type": "stream",
     "text": [
      "[ 1  4 54 56]\n",
      "[ 1  4 54 56]\n",
      "True\n",
      "[0.60358165 0.30894541 0.98726442 0.59076643 0.30927685]\n",
      "[0.80177937 0.07299585 0.22115569 0.78655506 0.46169453]\n",
      "False\n"
     ]
    }
   ],
   "source": [
    "import numpy as np\n",
    "a = np.array([1,4,54,56])\n",
    "b= np.array([1,4,54,56])\n",
    "print(a)\n",
    "print(b)\n",
    "print(np.array_equal(a,b))\n",
    "\n",
    "c = np.random.uniform(size=(5))\n",
    "d = np.random.uniform(size=5)\n",
    "print(c)\n",
    "print(d)\n",
    "print(np.allclose(c,d))"
   ]
  },
  {
   "cell_type": "markdown",
   "id": "d3a8ce54",
   "metadata": {},
   "source": [
    "**72. How to swap two rows of an array?** "
   ]
  },
  {
   "cell_type": "code",
   "execution_count": 5,
   "id": "1d38f692",
   "metadata": {
    "deletable": false,
    "nbgrader": {
     "cell_type": "code",
     "checksum": "ccca804156ed12777f188de3084a7145",
     "grade": false,
     "grade_id": "cell-079026f268b5211c",
     "locked": false,
     "schema_version": 3,
     "solution": true,
     "task": false
    }
   },
   "outputs": [
    {
     "name": "stdout",
     "output_type": "stream",
     "text": [
      "[[ 0  1  2]\n",
      " [ 3  4  5]\n",
      " [ 6  7  8]\n",
      " [ 9 10 11]\n",
      " [12 13 14]]\n",
      "[[ 3  4  5]\n",
      " [ 0  1  2]\n",
      " [ 6  7  8]\n",
      " [ 9 10 11]\n",
      " [12 13 14]]\n"
     ]
    }
   ],
   "source": [
    "a = np.arange(15)\n",
    "b = a.reshape(5,3)\n",
    "print(b)\n",
    "b[[0,1]] = b[[1,0]]\n",
    "print(b)\n"
   ]
  },
  {
   "cell_type": "markdown",
   "id": "438c1465",
   "metadata": {},
   "source": [
    "**75. How to compute averages using a sliding window over an array?**"
   ]
  },
  {
   "cell_type": "code",
   "execution_count": null,
   "id": "6eec0ee9",
   "metadata": {
    "deletable": false,
    "editable": false,
    "nbgrader": {
     "cell_type": "code",
     "checksum": "fabc3056e9ed22951d83c4012d5ec189",
     "grade": true,
     "grade_id": "cell-1983fc0078a860ff",
     "locked": true,
     "points": 3,
     "schema_version": 3,
     "solution": false,
     "task": false
    }
   },
   "outputs": [],
   "source": []
  },
  {
   "cell_type": "code",
   "execution_count": null,
   "id": "72fe12b0",
   "metadata": {},
   "outputs": [],
   "source": []
  }
 ],
 "metadata": {
  "interpreter": {
   "hash": "c2ad988b83bc3032ab0bc6c9b326315d9b3145f093b7c28f6f9e14e1089dbd73"
  },
  "kernelspec": {
   "display_name": "Python 3.8.8 64-bit ('NLP': conda)",
   "name": "python3"
  },
  "language_info": {
   "codemirror_mode": {
    "name": "ipython",
    "version": 3
   },
   "file_extension": ".py",
   "mimetype": "text/x-python",
   "name": "python",
   "nbconvert_exporter": "python",
   "pygments_lexer": "ipython3",
   "version": "3.8.12"
  }
 },
 "nbformat": 4,
 "nbformat_minor": 5
}
