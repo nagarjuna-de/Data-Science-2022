{
 "cells": [
  {
   "cell_type": "code",
   "execution_count": null,
   "metadata": {},
   "outputs": [],
   "source": []
  },
  {
   "cell_type": "markdown",
   "metadata": {},
   "source": [
    "In this challenge you need to code a function that receives a number print out this pyramid:\n",
    "i. e. print_pyramid(5) outputs this:\n",
    "    #\n",
    "   ##\n",
    "  ###\n",
    " ####\n",
    "#####"
   ]
  },
  {
   "cell_type": "code",
   "execution_count": 5,
   "metadata": {},
   "outputs": [
    {
     "name": "stdout",
     "output_type": "stream",
     "text": [
      "    #\n",
      "   ##\n",
      "  ###\n",
      " ####\n",
      "#####\n"
     ]
    }
   ],
   "source": [
    "def print_pryamid(num):\n",
    "    for i in range (num): # It is as same as pryamid challenge but I need to add spaces infront.\n",
    "        for j in range(num-i-1): # I need to give num-i spaces and then need to print #. since i starts from 0 i need to write i-1. \n",
    "            print(\" \", end=\"\")\n",
    "        for j in range(i+1):\n",
    "            print(\"#\", end=\"\")\n",
    "        print()\n",
    "\n",
    "print_pryamid(5)"
   ]
  }
 ],
 "metadata": {
  "interpreter": {
   "hash": "6dd76bf1bda3cfcc2b9c79ebe58e8411420a10c087c30911fe701ec6ed40def1"
  },
  "kernelspec": {
   "display_name": "Python 3.8.12 64-bit ('ds22': conda)",
   "language": "python",
   "name": "python3"
  },
  "language_info": {
   "codemirror_mode": {
    "name": "ipython",
    "version": 3
   },
   "file_extension": ".py",
   "mimetype": "text/x-python",
   "name": "python",
   "nbconvert_exporter": "python",
   "pygments_lexer": "ipython3",
   "version": "3.8.12"
  },
  "orig_nbformat": 4
 },
 "nbformat": 4,
 "nbformat_minor": 2
}
