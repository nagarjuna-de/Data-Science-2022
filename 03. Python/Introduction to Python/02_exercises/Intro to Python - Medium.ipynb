{
 "cells": [
  {
   "cell_type": "markdown",
   "metadata": {},
   "source": [
    "Here you have a collection of guided exercises for the first class on Python. <br>\n",
    "The exercises are divided by topic, following the topics reviewed during the theory session, and for each topic you have some mandatory exercises, and other optional exercises, which you are invited to do if you still have time after the mandatory exercises. <br>\n",
    "\n",
    "Remember that you have 5 hours to solve these exercises, after which we will review the most interesting exercises together. If you don't finish all the exercises, you can work on them tonightor tomorrow. \n",
    "\n",
    "At the end of the class, we will upload the code with the solutions of the exercises so that you can review them again if needed. If you still have not finished some exercises, try to do them first by yourself, before taking a look at the solutions: you are doing these exercises for yourself, so it is always the best to do them your way first, as it is the fastest way to learn!"
   ]
  },
  {
   "cell_type": "markdown",
   "metadata": {},
   "source": [
    "**Exercise 1.3 (🌶️):** You look at the clock and see that it is currently 14.00h. You set an alarm to go off 535 hours later. At what time will the alarm go off? Write a program that prints the answer. Hint: for the best solution, you will need the modulo operator. Second hint: The answer is 21.00h, but of course, this exercise is not about the answer, but about how you get it."
   ]
  },
  {
   "cell_type": "code",
   "execution_count": 2,
   "metadata": {},
   "outputs": [
    {
     "name": "stdout",
     "output_type": "stream",
     "text": [
      "21\n"
     ]
    }
   ],
   "source": [
    "#Your Code Here\n",
    "Current_time_hrs = 14\n",
    "alarm_set_hrs = 535\n",
    "alaram_go_off_hrs = Current_time_hrs+alarm_set_hrs\n",
    "day_hrs = 24\n",
    "print(alaram_go_off_hrs%day_hrs)"
   ]
  },
  {
   "cell_type": "markdown",
   "metadata": {},
   "source": [
    "**Exercise 5.4 (🌶️):** \"99 bottles of beer\" is a traditional song in the United States and Canada. It is popular to sing on long trips, as it has a very repetitive format which is easy to memorize, and can take a long time to sing. The song's simple lyrics are as follows: \"99 bottles of beer on the wall, 99 bottles of beer. Take one down, pass it around, 98 bottles of beer on the wall.\" The same verse is repeated, each time with one fewer bottle. The song is completed when the singer or singers reach zero. Write a function that generates and prints all the verses of the song (though you might start a bit lower, for instance with 10 bottles). Make sure that your loop is not endless, and that you use the proper inflection for the word \"bottle\"."
   ]
  },
  {
   "cell_type": "code",
   "execution_count": 5,
   "metadata": {},
   "outputs": [
    {
     "name": "stdout",
     "output_type": "stream",
     "text": [
      "99  bottles of beer on the wall, 99 bottle of beer. Take one down, pass it around\n",
      "98  bottles of beer on the wall, 98 bottle of beer. Take one down, pass it around\n",
      "97  bottles of beer on the wall, 97 bottle of beer. Take one down, pass it around\n",
      "96  bottles of beer on the wall, 96 bottle of beer. Take one down, pass it around\n",
      "95  bottles of beer on the wall, 95 bottle of beer. Take one down, pass it around\n",
      "94  bottles of beer on the wall, 94 bottle of beer. Take one down, pass it around\n",
      "93  bottles of beer on the wall, 93 bottle of beer. Take one down, pass it around\n",
      "92  bottles of beer on the wall, 92 bottle of beer. Take one down, pass it around\n",
      "91  bottles of beer on the wall, 91 bottle of beer. Take one down, pass it around\n",
      "90  bottles of beer on the wall, 90 bottle of beer. Take one down, pass it around\n",
      "89  bottles of beer on the wall, 89 bottle of beer. Take one down, pass it around\n",
      "88  bottles of beer on the wall, 88 bottle of beer. Take one down, pass it around\n",
      "87  bottles of beer on the wall, 87 bottle of beer. Take one down, pass it around\n",
      "86  bottles of beer on the wall, 86 bottle of beer. Take one down, pass it around\n",
      "85  bottles of beer on the wall, 85 bottle of beer. Take one down, pass it around\n",
      "84  bottles of beer on the wall, 84 bottle of beer. Take one down, pass it around\n",
      "83  bottles of beer on the wall, 83 bottle of beer. Take one down, pass it around\n",
      "82  bottles of beer on the wall, 82 bottle of beer. Take one down, pass it around\n",
      "81  bottles of beer on the wall, 81 bottle of beer. Take one down, pass it around\n",
      "80  bottles of beer on the wall, 80 bottle of beer. Take one down, pass it around\n",
      "79  bottles of beer on the wall, 79 bottle of beer. Take one down, pass it around\n",
      "78  bottles of beer on the wall, 78 bottle of beer. Take one down, pass it around\n",
      "77  bottles of beer on the wall, 77 bottle of beer. Take one down, pass it around\n",
      "76  bottles of beer on the wall, 76 bottle of beer. Take one down, pass it around\n",
      "75  bottles of beer on the wall, 75 bottle of beer. Take one down, pass it around\n",
      "74  bottles of beer on the wall, 74 bottle of beer. Take one down, pass it around\n",
      "73  bottles of beer on the wall, 73 bottle of beer. Take one down, pass it around\n",
      "72  bottles of beer on the wall, 72 bottle of beer. Take one down, pass it around\n",
      "71  bottles of beer on the wall, 71 bottle of beer. Take one down, pass it around\n",
      "70  bottles of beer on the wall, 70 bottle of beer. Take one down, pass it around\n",
      "69  bottles of beer on the wall, 69 bottle of beer. Take one down, pass it around\n",
      "68  bottles of beer on the wall, 68 bottle of beer. Take one down, pass it around\n",
      "67  bottles of beer on the wall, 67 bottle of beer. Take one down, pass it around\n",
      "66  bottles of beer on the wall, 66 bottle of beer. Take one down, pass it around\n",
      "65  bottles of beer on the wall, 65 bottle of beer. Take one down, pass it around\n",
      "64  bottles of beer on the wall, 64 bottle of beer. Take one down, pass it around\n",
      "63  bottles of beer on the wall, 63 bottle of beer. Take one down, pass it around\n",
      "62  bottles of beer on the wall, 62 bottle of beer. Take one down, pass it around\n",
      "61  bottles of beer on the wall, 61 bottle of beer. Take one down, pass it around\n",
      "60  bottles of beer on the wall, 60 bottle of beer. Take one down, pass it around\n",
      "59  bottles of beer on the wall, 59 bottle of beer. Take one down, pass it around\n",
      "58  bottles of beer on the wall, 58 bottle of beer. Take one down, pass it around\n",
      "57  bottles of beer on the wall, 57 bottle of beer. Take one down, pass it around\n",
      "56  bottles of beer on the wall, 56 bottle of beer. Take one down, pass it around\n",
      "55  bottles of beer on the wall, 55 bottle of beer. Take one down, pass it around\n",
      "54  bottles of beer on the wall, 54 bottle of beer. Take one down, pass it around\n",
      "53  bottles of beer on the wall, 53 bottle of beer. Take one down, pass it around\n",
      "52  bottles of beer on the wall, 52 bottle of beer. Take one down, pass it around\n",
      "51  bottles of beer on the wall, 51 bottle of beer. Take one down, pass it around\n",
      "50  bottles of beer on the wall, 50 bottle of beer. Take one down, pass it around\n",
      "49  bottles of beer on the wall, 49 bottle of beer. Take one down, pass it around\n",
      "48  bottles of beer on the wall, 48 bottle of beer. Take one down, pass it around\n",
      "47  bottles of beer on the wall, 47 bottle of beer. Take one down, pass it around\n",
      "46  bottles of beer on the wall, 46 bottle of beer. Take one down, pass it around\n",
      "45  bottles of beer on the wall, 45 bottle of beer. Take one down, pass it around\n",
      "44  bottles of beer on the wall, 44 bottle of beer. Take one down, pass it around\n",
      "43  bottles of beer on the wall, 43 bottle of beer. Take one down, pass it around\n",
      "42  bottles of beer on the wall, 42 bottle of beer. Take one down, pass it around\n",
      "41  bottles of beer on the wall, 41 bottle of beer. Take one down, pass it around\n",
      "40  bottles of beer on the wall, 40 bottle of beer. Take one down, pass it around\n",
      "39  bottles of beer on the wall, 39 bottle of beer. Take one down, pass it around\n",
      "38  bottles of beer on the wall, 38 bottle of beer. Take one down, pass it around\n",
      "37  bottles of beer on the wall, 37 bottle of beer. Take one down, pass it around\n",
      "36  bottles of beer on the wall, 36 bottle of beer. Take one down, pass it around\n",
      "35  bottles of beer on the wall, 35 bottle of beer. Take one down, pass it around\n",
      "34  bottles of beer on the wall, 34 bottle of beer. Take one down, pass it around\n",
      "33  bottles of beer on the wall, 33 bottle of beer. Take one down, pass it around\n",
      "32  bottles of beer on the wall, 32 bottle of beer. Take one down, pass it around\n",
      "31  bottles of beer on the wall, 31 bottle of beer. Take one down, pass it around\n",
      "30  bottles of beer on the wall, 30 bottle of beer. Take one down, pass it around\n",
      "29  bottles of beer on the wall, 29 bottle of beer. Take one down, pass it around\n",
      "28  bottles of beer on the wall, 28 bottle of beer. Take one down, pass it around\n",
      "27  bottles of beer on the wall, 27 bottle of beer. Take one down, pass it around\n",
      "26  bottles of beer on the wall, 26 bottle of beer. Take one down, pass it around\n",
      "25  bottles of beer on the wall, 25 bottle of beer. Take one down, pass it around\n",
      "24  bottles of beer on the wall, 24 bottle of beer. Take one down, pass it around\n",
      "23  bottles of beer on the wall, 23 bottle of beer. Take one down, pass it around\n",
      "22  bottles of beer on the wall, 22 bottle of beer. Take one down, pass it around\n",
      "21  bottles of beer on the wall, 21 bottle of beer. Take one down, pass it around\n",
      "20  bottles of beer on the wall, 20 bottle of beer. Take one down, pass it around\n",
      "19  bottles of beer on the wall, 19 bottle of beer. Take one down, pass it around\n",
      "18  bottles of beer on the wall, 18 bottle of beer. Take one down, pass it around\n",
      "17  bottles of beer on the wall, 17 bottle of beer. Take one down, pass it around\n",
      "16  bottles of beer on the wall, 16 bottle of beer. Take one down, pass it around\n",
      "15  bottles of beer on the wall, 15 bottle of beer. Take one down, pass it around\n",
      "14  bottles of beer on the wall, 14 bottle of beer. Take one down, pass it around\n",
      "13  bottles of beer on the wall, 13 bottle of beer. Take one down, pass it around\n",
      "12  bottles of beer on the wall, 12 bottle of beer. Take one down, pass it around\n",
      "11  bottles of beer on the wall, 11 bottle of beer. Take one down, pass it around\n",
      "10  bottles of beer on the wall, 10 bottle of beer. Take one down, pass it around\n",
      "9  bottles of beer on the wall, 9 bottle of beer. Take one down, pass it around\n",
      "8  bottles of beer on the wall, 8 bottle of beer. Take one down, pass it around\n",
      "7  bottles of beer on the wall, 7 bottle of beer. Take one down, pass it around\n",
      "6  bottles of beer on the wall, 6 bottle of beer. Take one down, pass it around\n",
      "5  bottles of beer on the wall, 5 bottle of beer. Take one down, pass it around\n",
      "4  bottles of beer on the wall, 4 bottle of beer. Take one down, pass it around\n",
      "3  bottles of beer on the wall, 3 bottle of beer. Take one down, pass it around\n",
      "2  bottles of beer on the wall, 2 bottle of beer. Take one down, pass it around\n",
      "1  bottle of beer on the wall, 1 bottles of beer. Take one down, pass it around\n"
     ]
    }
   ],
   "source": [
    "#Your Code Here\n",
    "def beersong():\n",
    "    for i in reversed (range (1,100)):\n",
    "        if i == 1:\n",
    "            print(i,\" bottle of beer on the wall,\", i, \"bottles of beer. Take one down, pass it around\")\n",
    "        else:\n",
    "            print(i,\" bottles of beer on the wall,\", i, \"bottle of beer. Take one down, pass it around\")\n",
    "\n",
    "    \n",
    "beersong()\n",
    "\n"
   ]
  },
  {
   "cell_type": "markdown",
   "metadata": {},
   "source": [
    "**Exercise 5.5 (🌶️):** The Fibonacci sequence is a sequence of numbers that starts with 1, followed by 1 again. Every next number is the sum of the two previous numbers. I.e., the sequence starts with 1, 1, 2, 3, 5, 8, 13, 21,... Write a function that calculates and prints the Fibonacci sequence until the numbers get higher than a `maximum`."
   ]
  },
  {
   "cell_type": "code",
   "execution_count": 17,
   "metadata": {},
   "outputs": [
    {
     "ename": "TypeError",
     "evalue": "list indices must be integers or slices, not tuple",
     "output_type": "error",
     "traceback": [
      "\u001b[1;31m---------------------------------------------------------------------------\u001b[0m",
      "\u001b[1;31mTypeError\u001b[0m                                 Traceback (most recent call last)",
      "Input \u001b[1;32mIn [17]\u001b[0m, in \u001b[0;36m<module>\u001b[1;34m\u001b[0m\n\u001b[0;32m      7\u001b[0m     \u001b[38;5;28;01melse\u001b[39;00m:\n\u001b[0;32m      8\u001b[0m         \u001b[38;5;28mprint\u001b[39m(fibonacciseries)\n\u001b[1;32m---> 10\u001b[0m \u001b[43mfibonacci\u001b[49m\u001b[43m(\u001b[49m\u001b[38;5;241;43m22\u001b[39;49m\u001b[43m)\u001b[49m       \n\u001b[0;32m     16\u001b[0m fibonacci()\n",
      "Input \u001b[1;32mIn [17]\u001b[0m, in \u001b[0;36mfibonacci\u001b[1;34m(num)\u001b[0m\n\u001b[0;32m      3\u001b[0m \u001b[38;5;28;01mdef\u001b[39;00m \u001b[38;5;21mfibonacci\u001b[39m(num):\n\u001b[0;32m      4\u001b[0m     \u001b[38;5;28;01mfor\u001b[39;00m i \u001b[38;5;129;01min\u001b[39;00m \u001b[38;5;28mrange\u001b[39m (\u001b[38;5;241m2\u001b[39m,num):\n\u001b[1;32m----> 5\u001b[0m         new_element \u001b[38;5;241m=\u001b[39m \u001b[43mfibonacciseries\u001b[49m\u001b[43m[\u001b[49m\u001b[38;5;28;43mint\u001b[39;49m\u001b[43m,\u001b[49m\u001b[43mi\u001b[49m\u001b[38;5;241;43m-\u001b[39;49m\u001b[38;5;241;43m1\u001b[39;49m\u001b[43m]\u001b[49m\u001b[38;5;241m+\u001b[39mfibonacciseries[\u001b[38;5;28mint\u001b[39m, i\u001b[38;5;241m-\u001b[39m\u001b[38;5;241m2\u001b[39m]\n\u001b[0;32m      6\u001b[0m         fibonacciseries\u001b[38;5;241m.\u001b[39mappend(new_element)\n\u001b[0;32m      7\u001b[0m     \u001b[38;5;28;01melse\u001b[39;00m:\n",
      "\u001b[1;31mTypeError\u001b[0m: list indices must be integers or slices, not tuple"
     ]
    }
   ],
   "source": [
    "#Your Code Here\n",
    "fibonacciseries = [0,1]\n",
    "def fibonacci(num):\n",
    "    for i in range (2,num):\n",
    "        new_element = fibonacciseries[int,i-1]+fibonacciseries[int,i-2]\n",
    "        fibonacciseries.append(new_element)\n",
    "    #else:\n",
    "        print(fibonacciseries)\n",
    "\n",
    "#fibonacci(22)       \n",
    "    \n",
    "\n",
    "\n",
    "    \n",
    "   \n",
    "fibonacci()\n"
   ]
  },
  {
   "cell_type": "code",
   "execution_count": 20,
   "metadata": {},
   "outputs": [
    {
     "ename": "UnboundLocalError",
     "evalue": "local variable 'sum' referenced before assignment",
     "output_type": "error",
     "traceback": [
      "\u001b[1;31m---------------------------------------------------------------------------\u001b[0m",
      "\u001b[1;31mUnboundLocalError\u001b[0m                         Traceback (most recent call last)",
      "Input \u001b[1;32mIn [20]\u001b[0m, in \u001b[0;36m<module>\u001b[1;34m\u001b[0m\n\u001b[0;32m      8\u001b[0m             n2 \u001b[38;5;241m=\u001b[39m \u001b[38;5;28msum\u001b[39m\n\u001b[0;32m      9\u001b[0m             \u001b[38;5;28msum\u001b[39m \u001b[38;5;241m=\u001b[39m n1\u001b[38;5;241m+\u001b[39mn2\n\u001b[1;32m---> 11\u001b[0m \u001b[43mfibonacci_series\u001b[49m\u001b[43m(\u001b[49m\u001b[38;5;241;43m23\u001b[39;49m\u001b[43m)\u001b[49m\n",
      "Input \u001b[1;32mIn [20]\u001b[0m, in \u001b[0;36mfibonacci_series\u001b[1;34m(num)\u001b[0m\n\u001b[0;32m      4\u001b[0m \u001b[38;5;28;01mdef\u001b[39;00m \u001b[38;5;21mfibonacci_series\u001b[39m(num):\n\u001b[0;32m      5\u001b[0m         \u001b[38;5;28;01mfor\u001b[39;00m i \u001b[38;5;129;01min\u001b[39;00m \u001b[38;5;28mrange\u001b[39m(\u001b[38;5;241m0\u001b[39m, num):\n\u001b[1;32m----> 6\u001b[0m             \u001b[38;5;28mprint\u001b[39m(\u001b[38;5;28;43msum\u001b[39;49m, end \u001b[38;5;241m=\u001b[39m \u001b[38;5;124m\"\u001b[39m\u001b[38;5;124m\"\u001b[39m)\n\u001b[0;32m      7\u001b[0m             n1 \u001b[38;5;241m=\u001b[39m n2\n\u001b[0;32m      8\u001b[0m             n2 \u001b[38;5;241m=\u001b[39m \u001b[38;5;28msum\u001b[39m\n",
      "\u001b[1;31mUnboundLocalError\u001b[0m: local variable 'sum' referenced before assignment"
     ]
    }
   ],
   "source": [
    "n1 = 0\n",
    "n2 = 1\n",
    "sum = 0\n",
    "def fibonacci_series(num):\n",
    "        for i in range(0, num):\n",
    "            print(sum, end = \"\")\n",
    "            n1 = n2\n",
    "            n2 = sum\n",
    "            sum = n1+n2\n",
    "\n",
    "fibonacci_series(23)\n"
   ]
  },
  {
   "cell_type": "markdown",
   "metadata": {},
   "source": [
    "**Exercise 5.8 (🌶️):** A, B, C, and D are all different digits. The number DCBA is equal to 4 times the number ABCD. What are the digits? Note: to make ABCD and DCBA conventional numbers, neither A nor D can be zero. Use a quadruple-nested loop."
   ]
  },
  {
   "cell_type": "code",
   "execution_count": 5,
   "metadata": {},
   "outputs": [
    {
     "name": "stdout",
     "output_type": "stream",
     "text": [
      "A: 2\n",
      "B: 1\n",
      "C: 7\n",
      "D: 8\n"
     ]
    }
   ],
   "source": [
    "#Your Code Here\n",
    "# Solve 4*ABCD == DCBA\n",
    "def nested_nest():\n",
    "    # defining A,B,C,D using for loop. let consider ABCD is a 4 digit number so the range for A/B/C/D is in 0 to 9.\n",
    "    for a in range (1,9):\n",
    "        for b in range (1,9):\n",
    "            for c in range (1,9):\n",
    "                for d in range (1,9):\n",
    "                    if 4000*a+400*b+40*c+4*d == 1000*d+100*c+10*b+1*a:\n",
    "                        print(\"A:\",a)\n",
    "                        print(\"B:\",b)\n",
    "                        print(\"C:\",c)\n",
    "                        print(\"D:\",d)\n",
    "\n",
    "nested_nest()\n",
    "# defining the range from 0 to 9. I am also getting A=B=C=D=0. this also satisfy my condition and then rearranged the range from 1 to 9 \n",
    "                    \n",
    "\n",
    "\n",
    "    \n",
    "\n",
    "    "
   ]
  }
 ],
 "metadata": {
  "kernelspec": {
   "display_name": "Python 3 (ipykernel)",
   "language": "python",
   "name": "python3"
  },
  "language_info": {
   "codemirror_mode": {
    "name": "ipython",
    "version": 3
   },
   "file_extension": ".py",
   "mimetype": "text/x-python",
   "name": "python",
   "nbconvert_exporter": "python",
   "pygments_lexer": "ipython3",
   "version": "3.8.12"
  }
 },
 "nbformat": 4,
 "nbformat_minor": 4
}
