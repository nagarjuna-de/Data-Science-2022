{
 "cells": [
  {
   "cell_type": "code",
   "execution_count": null,
   "metadata": {},
   "outputs": [],
   "source": []
  },
  {
   "cell_type": "markdown",
   "metadata": {},
   "source": [
    "https://towardsdatascience.com/7-ways-to-handle-missing-values-in-machine-learning-1a6326adf79e  \n",
    "  \n",
    "https://towardsdatascience.com/whats-the-best-way-to-handle-nan-values-62d50f738fc  \n",
    "  \n",
    "https://stackoverflow.com/questions/50617442/how-to-replace-nan-values-meaningfully-for-machine-learning  \n",
    "  \n",
    "https://python.plainenglish.io/predict-missing-dataframe-values-with-an-ml-algorithm-717cd872f1a8  \n",
    "  \n",
    "https://www.analyticsvidhya.com/blog/2021/10/handling-missing-value/  \n",
    "  \n",
    "https://www.dummies.com/article/technology/information-technology/ai/machine-learning/machine-learning-choosing-right-replacement-strategy-missing-data-226782/  \n"
   ]
  }
 ],
 "metadata": {
  "language_info": {
   "name": "python"
  },
  "orig_nbformat": 4
 },
 "nbformat": 4,
 "nbformat_minor": 2
}
