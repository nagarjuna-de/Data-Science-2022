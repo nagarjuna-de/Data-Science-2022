{
 "cells": [
  {
   "cell_type": "markdown",
   "metadata": {},
   "source": [
    "After one epoch, we completed forward pass and backward pass through the model. Which leads to updating weights of the model.\n",
    "So, we need to  evaluate the training to spot whether our model was underfitting / overfitting.\n",
    "\n",
    "The steps involved in evaluation are\n",
    "1. model.eval() -- setting up of our for evaluation.\n",
    "2. with T.no_grad(): --- for to update weights of our model while evaluating.\n",
    "3. model.forward(images) -- Forward pass for prediction.\n",
    "4. Compute loss, Accuracy/error\n",
    "5. model.train() -- Set model to train again."
   ]
  },
  {
   "cell_type": "markdown",
   "metadata": {},
   "source": [
    "_, predicted = outputs.max(1)\n",
    "total += labels.size(0)\n",
    "correct += predicted.eq(labels).sum().item()"
   ]
  },
  {
   "cell_type": "code",
   "execution_count": null,
   "metadata": {
    "vscode": {
     "languageId": "plaintext"
    }
   },
   "outputs": [],
   "source": [
    "Two magical tools are available to us to ease the entire task of loading data.\n",
    "\n",
    "Dataset\n",
    "Dataloader\n",
    "\n",
    "We are writing a class CustomDataset which inherits torch.utils.data.Dataset."
   ]
  }
 ],
 "metadata": {
  "language_info": {
   "name": "python"
  },
  "orig_nbformat": 4
 },
 "nbformat": 4,
 "nbformat_minor": 2
}
